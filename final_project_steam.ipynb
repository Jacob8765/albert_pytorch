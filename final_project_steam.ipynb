{
 "cells": [
  {
   "cell_type": "code",
   "execution_count": 56,
   "metadata": {},
   "outputs": [],
   "source": [
    "import pandas as pd\n",
    "import numpy as np\n",
    "import matplotlib.pyplot as plt\n",
    "import seaborn as sns\n",
    "import os"
   ]
  },
  {
   "cell_type": "markdown",
   "metadata": {},
   "source": [
    "### Load Dataset"
   ]
  },
  {
   "cell_type": "code",
   "execution_count": 57,
   "metadata": {},
   "outputs": [
    {
     "data": {
      "text/html": [
       "<div>\n",
       "<style scoped>\n",
       "    .dataframe tbody tr th:only-of-type {\n",
       "        vertical-align: middle;\n",
       "    }\n",
       "\n",
       "    .dataframe tbody tr th {\n",
       "        vertical-align: top;\n",
       "    }\n",
       "\n",
       "    .dataframe thead th {\n",
       "        text-align: right;\n",
       "    }\n",
       "</style>\n",
       "<table border=\"1\" class=\"dataframe\">\n",
       "  <thead>\n",
       "    <tr style=\"text-align: right;\">\n",
       "      <th></th>\n",
       "      <th>review_id</th>\n",
       "      <th>title</th>\n",
       "      <th>year</th>\n",
       "      <th>user_review</th>\n",
       "      <th>user_suggestion</th>\n",
       "    </tr>\n",
       "  </thead>\n",
       "  <tbody>\n",
       "    <tr>\n",
       "      <th>0</th>\n",
       "      <td>1</td>\n",
       "      <td>Spooky's Jump Scare Mansion</td>\n",
       "      <td>2016.0</td>\n",
       "      <td>I'm scared and hearing creepy voices.  So I'll...</td>\n",
       "      <td>1</td>\n",
       "    </tr>\n",
       "    <tr>\n",
       "      <th>1</th>\n",
       "      <td>2</td>\n",
       "      <td>Spooky's Jump Scare Mansion</td>\n",
       "      <td>2016.0</td>\n",
       "      <td>Best game, more better than Sam Pepper's YouTu...</td>\n",
       "      <td>1</td>\n",
       "    </tr>\n",
       "    <tr>\n",
       "      <th>2</th>\n",
       "      <td>3</td>\n",
       "      <td>Spooky's Jump Scare Mansion</td>\n",
       "      <td>2016.0</td>\n",
       "      <td>A littly iffy on the controls, but once you kn...</td>\n",
       "      <td>1</td>\n",
       "    </tr>\n",
       "    <tr>\n",
       "      <th>3</th>\n",
       "      <td>4</td>\n",
       "      <td>Spooky's Jump Scare Mansion</td>\n",
       "      <td>2015.0</td>\n",
       "      <td>Great game, fun and colorful and all that.A si...</td>\n",
       "      <td>1</td>\n",
       "    </tr>\n",
       "    <tr>\n",
       "      <th>4</th>\n",
       "      <td>5</td>\n",
       "      <td>Spooky's Jump Scare Mansion</td>\n",
       "      <td>2015.0</td>\n",
       "      <td>Not many games have the cute tag right next to...</td>\n",
       "      <td>1</td>\n",
       "    </tr>\n",
       "  </tbody>\n",
       "</table>\n",
       "</div>"
      ],
      "text/plain": [
       "   review_id                        title    year  \\\n",
       "0          1  Spooky's Jump Scare Mansion  2016.0   \n",
       "1          2  Spooky's Jump Scare Mansion  2016.0   \n",
       "2          3  Spooky's Jump Scare Mansion  2016.0   \n",
       "3          4  Spooky's Jump Scare Mansion  2015.0   \n",
       "4          5  Spooky's Jump Scare Mansion  2015.0   \n",
       "\n",
       "                                         user_review  user_suggestion  \n",
       "0  I'm scared and hearing creepy voices.  So I'll...                1  \n",
       "1  Best game, more better than Sam Pepper's YouTu...                1  \n",
       "2  A littly iffy on the controls, but once you kn...                1  \n",
       "3  Great game, fun and colorful and all that.A si...                1  \n",
       "4  Not many games have the cute tag right next to...                1  "
      ]
     },
     "execution_count": 57,
     "metadata": {},
     "output_type": "execute_result"
    }
   ],
   "source": [
    "data = pd.read_csv(os.path.join(os.getcwd(), 'dataset', 'steam_review_sentiment.csv'))\n",
    "data.head()"
   ]
  },
  {
   "cell_type": "code",
   "execution_count": 58,
   "metadata": {},
   "outputs": [
    {
     "name": "stdout",
     "output_type": "stream",
     "text": [
      "Number of rows: 17494\n",
      "Number of columns: 5\n"
     ]
    }
   ],
   "source": [
    "print(f\"Number of rows: {data.shape[0]}\")\n",
    "print(f\"Number of columns: {data.shape[1]}\")"
   ]
  },
  {
   "cell_type": "markdown",
   "metadata": {},
   "source": [
    "This dataset is from Kaggle. It contains 17,494 rows and 5 columns. The dataset is about the steam game reviews. The columns are the review_id, the title of the video game, the year of the review, the review of the user, and whether the user recommends the game or not."
   ]
  },
  {
   "cell_type": "markdown",
   "metadata": {},
   "source": [
    "### 2. Data Preprocessing"
   ]
  },
  {
   "cell_type": "code",
   "execution_count": 59,
   "metadata": {},
   "outputs": [
    {
     "name": "stdout",
     "output_type": "stream",
     "text": [
      "<class 'pandas.core.frame.DataFrame'>\n",
      "RangeIndex: 17494 entries, 0 to 17493\n",
      "Data columns (total 5 columns):\n",
      " #   Column           Non-Null Count  Dtype  \n",
      "---  ------           --------------  -----  \n",
      " 0   review_id        17494 non-null  int64  \n",
      " 1   title            17494 non-null  object \n",
      " 2   year             17316 non-null  float64\n",
      " 3   user_review      17494 non-null  object \n",
      " 4   user_suggestion  17494 non-null  int64  \n",
      "dtypes: float64(1), int64(2), object(2)\n",
      "memory usage: 683.5+ KB\n"
     ]
    }
   ],
   "source": [
    "data.info()"
   ]
  },
  {
   "cell_type": "code",
   "execution_count": 60,
   "metadata": {},
   "outputs": [
    {
     "data": {
      "text/plain": [
       "review_id            0\n",
       "title                0\n",
       "year               178\n",
       "user_review          0\n",
       "user_suggestion      0\n",
       "dtype: int64"
      ]
     },
     "execution_count": 60,
     "metadata": {},
     "output_type": "execute_result"
    }
   ],
   "source": [
    "data.isnull().sum() # missing some year values"
   ]
  },
  {
   "cell_type": "markdown",
   "metadata": {},
   "source": [
    "The are 178 rows that have missing year values in the dataset. Considering that we have 17,494 instances, I believe that it is safe to remove these rows as it will make the data easier to process and will not greatly reduce the size of the dataset."
   ]
  },
  {
   "cell_type": "code",
   "execution_count": 61,
   "metadata": {},
   "outputs": [
    {
     "data": {
      "text/plain": [
       "review_id          0\n",
       "title              0\n",
       "year               0\n",
       "user_review        0\n",
       "user_suggestion    0\n",
       "dtype: int64"
      ]
     },
     "execution_count": 61,
     "metadata": {},
     "output_type": "execute_result"
    }
   ],
   "source": [
    "data.dropna(inplace=True)\n",
    "data.isnull().sum()"
   ]
  },
  {
   "cell_type": "code",
   "execution_count": 62,
   "metadata": {},
   "outputs": [
    {
     "name": "stdout",
     "output_type": "stream",
     "text": [
      "Number of rows: 17316\n",
      "Number of columns: 5\n"
     ]
    }
   ],
   "source": [
    "print(f\"Number of rows: {data.shape[0]}\")\n",
    "print(f\"Number of columns: {data.shape[1]}\")"
   ]
  },
  {
   "cell_type": "code",
   "execution_count": 63,
   "metadata": {},
   "outputs": [
    {
     "data": {
      "text/plain": [
       "0"
      ]
     },
     "execution_count": 63,
     "metadata": {},
     "output_type": "execute_result"
    }
   ],
   "source": [
    "data.duplicated().sum()"
   ]
  },
  {
   "cell_type": "code",
   "execution_count": 64,
   "metadata": {},
   "outputs": [
    {
     "name": "stdout",
     "output_type": "stream",
     "text": [
      "Percentage of 1 class in dataset: 57.10%\n",
      "Percentage of 0 class in dataset: 42.90%\n"
     ]
    }
   ],
   "source": [
    "all_classes = data['user_suggestion'].unique()\n",
    "\n",
    "for class_name in all_classes:\n",
    "    print(f\"Percentage of {class_name} class in dataset: {data[data['user_suggestion'] == class_name]['user_suggestion'].size/data['user_suggestion'].size*100:0.2f}%\")"
   ]
  },
  {
   "cell_type": "markdown",
   "metadata": {},
   "source": [
    "There is not a wide disparity between the label classes."
   ]
  },
  {
   "cell_type": "markdown",
   "metadata": {},
   "source": [
    "### 3. Feature Engineering"
   ]
  },
  {
   "cell_type": "markdown",
   "metadata": {},
   "source": [
    "Get sentimenent score for each review using transformer model that we trained from scratch."
   ]
  },
  {
   "cell_type": "code",
   "execution_count": 65,
   "metadata": {},
   "outputs": [],
   "source": [
    "# from inference_model import inference_model\n",
    "\n",
    "# inference_model(data, 'user_review')"
   ]
  },
  {
   "cell_type": "code",
   "execution_count": 66,
   "metadata": {},
   "outputs": [],
   "source": [
    "# data.to_csv(os.path.join(os.getcwd(), 'dataset', 'steam_review_sentiment_NN.csv'), index=False)"
   ]
  },
  {
   "cell_type": "code",
   "execution_count": 67,
   "metadata": {},
   "outputs": [],
   "source": [
    "data = pd.read_csv(os.path.join(os.getcwd(), 'dataset', 'steam_review_sentiment_NN.csv'))"
   ]
  },
  {
   "cell_type": "code",
   "execution_count": 68,
   "metadata": {},
   "outputs": [
    {
     "data": {
      "text/html": [
       "<div>\n",
       "<style scoped>\n",
       "    .dataframe tbody tr th:only-of-type {\n",
       "        vertical-align: middle;\n",
       "    }\n",
       "\n",
       "    .dataframe tbody tr th {\n",
       "        vertical-align: top;\n",
       "    }\n",
       "\n",
       "    .dataframe thead th {\n",
       "        text-align: right;\n",
       "    }\n",
       "</style>\n",
       "<table border=\"1\" class=\"dataframe\">\n",
       "  <thead>\n",
       "    <tr style=\"text-align: right;\">\n",
       "      <th></th>\n",
       "      <th>review_id</th>\n",
       "      <th>title</th>\n",
       "      <th>year</th>\n",
       "      <th>user_review</th>\n",
       "      <th>user_suggestion</th>\n",
       "      <th>review_sentiment</th>\n",
       "    </tr>\n",
       "  </thead>\n",
       "  <tbody>\n",
       "    <tr>\n",
       "      <th>0</th>\n",
       "      <td>1</td>\n",
       "      <td>Spooky's Jump Scare Mansion</td>\n",
       "      <td>2016.0</td>\n",
       "      <td>I'm scared and hearing creepy voices.  So I'll...</td>\n",
       "      <td>1</td>\n",
       "      <td>0.369377</td>\n",
       "    </tr>\n",
       "    <tr>\n",
       "      <th>1</th>\n",
       "      <td>2</td>\n",
       "      <td>Spooky's Jump Scare Mansion</td>\n",
       "      <td>2016.0</td>\n",
       "      <td>Best game, more better than Sam Pepper's YouTu...</td>\n",
       "      <td>1</td>\n",
       "      <td>0.827403</td>\n",
       "    </tr>\n",
       "    <tr>\n",
       "      <th>2</th>\n",
       "      <td>3</td>\n",
       "      <td>Spooky's Jump Scare Mansion</td>\n",
       "      <td>2016.0</td>\n",
       "      <td>A littly iffy on the controls, but once you kn...</td>\n",
       "      <td>1</td>\n",
       "      <td>0.953158</td>\n",
       "    </tr>\n",
       "    <tr>\n",
       "      <th>3</th>\n",
       "      <td>4</td>\n",
       "      <td>Spooky's Jump Scare Mansion</td>\n",
       "      <td>2015.0</td>\n",
       "      <td>Great game, fun and colorful and all that.A si...</td>\n",
       "      <td>1</td>\n",
       "      <td>0.960616</td>\n",
       "    </tr>\n",
       "    <tr>\n",
       "      <th>4</th>\n",
       "      <td>5</td>\n",
       "      <td>Spooky's Jump Scare Mansion</td>\n",
       "      <td>2015.0</td>\n",
       "      <td>Not many games have the cute tag right next to...</td>\n",
       "      <td>1</td>\n",
       "      <td>0.819643</td>\n",
       "    </tr>\n",
       "  </tbody>\n",
       "</table>\n",
       "</div>"
      ],
      "text/plain": [
       "   review_id                        title    year  \\\n",
       "0          1  Spooky's Jump Scare Mansion  2016.0   \n",
       "1          2  Spooky's Jump Scare Mansion  2016.0   \n",
       "2          3  Spooky's Jump Scare Mansion  2016.0   \n",
       "3          4  Spooky's Jump Scare Mansion  2015.0   \n",
       "4          5  Spooky's Jump Scare Mansion  2015.0   \n",
       "\n",
       "                                         user_review  user_suggestion  \\\n",
       "0  I'm scared and hearing creepy voices.  So I'll...                1   \n",
       "1  Best game, more better than Sam Pepper's YouTu...                1   \n",
       "2  A littly iffy on the controls, but once you kn...                1   \n",
       "3  Great game, fun and colorful and all that.A si...                1   \n",
       "4  Not many games have the cute tag right next to...                1   \n",
       "\n",
       "   review_sentiment  \n",
       "0          0.369377  \n",
       "1          0.827403  \n",
       "2          0.953158  \n",
       "3          0.960616  \n",
       "4          0.819643  "
      ]
     },
     "execution_count": 68,
     "metadata": {},
     "output_type": "execute_result"
    }
   ],
   "source": [
    "data.head()"
   ]
  },
  {
   "cell_type": "markdown",
   "metadata": {},
   "source": [
    "Right now the game titles are represented as strings. We need to categorize them into number for the model to understand"
   ]
  },
  {
   "cell_type": "code",
   "execution_count": 69,
   "metadata": {},
   "outputs": [],
   "source": [
    "from sklearn.preprocessing import LabelEncoder\n"
   ]
  },
  {
   "cell_type": "code",
   "execution_count": 70,
   "metadata": {},
   "outputs": [
    {
     "data": {
      "text/html": [
       "<div>\n",
       "<style scoped>\n",
       "    .dataframe tbody tr th:only-of-type {\n",
       "        vertical-align: middle;\n",
       "    }\n",
       "\n",
       "    .dataframe tbody tr th {\n",
       "        vertical-align: top;\n",
       "    }\n",
       "\n",
       "    .dataframe thead th {\n",
       "        text-align: right;\n",
       "    }\n",
       "</style>\n",
       "<table border=\"1\" class=\"dataframe\">\n",
       "  <thead>\n",
       "    <tr style=\"text-align: right;\">\n",
       "      <th></th>\n",
       "      <th>review_id</th>\n",
       "      <th>title</th>\n",
       "      <th>year</th>\n",
       "      <th>user_review</th>\n",
       "      <th>user_suggestion</th>\n",
       "      <th>review_sentiment</th>\n",
       "    </tr>\n",
       "  </thead>\n",
       "  <tbody>\n",
       "    <tr>\n",
       "      <th>0</th>\n",
       "      <td>1</td>\n",
       "      <td>33</td>\n",
       "      <td>2016.0</td>\n",
       "      <td>I'm scared and hearing creepy voices.  So I'll...</td>\n",
       "      <td>1</td>\n",
       "      <td>0.369377</td>\n",
       "    </tr>\n",
       "    <tr>\n",
       "      <th>1</th>\n",
       "      <td>2</td>\n",
       "      <td>33</td>\n",
       "      <td>2016.0</td>\n",
       "      <td>Best game, more better than Sam Pepper's YouTu...</td>\n",
       "      <td>1</td>\n",
       "      <td>0.827403</td>\n",
       "    </tr>\n",
       "    <tr>\n",
       "      <th>2</th>\n",
       "      <td>3</td>\n",
       "      <td>33</td>\n",
       "      <td>2016.0</td>\n",
       "      <td>A littly iffy on the controls, but once you kn...</td>\n",
       "      <td>1</td>\n",
       "      <td>0.953158</td>\n",
       "    </tr>\n",
       "    <tr>\n",
       "      <th>3</th>\n",
       "      <td>4</td>\n",
       "      <td>33</td>\n",
       "      <td>2015.0</td>\n",
       "      <td>Great game, fun and colorful and all that.A si...</td>\n",
       "      <td>1</td>\n",
       "      <td>0.960616</td>\n",
       "    </tr>\n",
       "    <tr>\n",
       "      <th>4</th>\n",
       "      <td>5</td>\n",
       "      <td>33</td>\n",
       "      <td>2015.0</td>\n",
       "      <td>Not many games have the cute tag right next to...</td>\n",
       "      <td>1</td>\n",
       "      <td>0.819643</td>\n",
       "    </tr>\n",
       "  </tbody>\n",
       "</table>\n",
       "</div>"
      ],
      "text/plain": [
       "   review_id  title    year  \\\n",
       "0          1     33  2016.0   \n",
       "1          2     33  2016.0   \n",
       "2          3     33  2016.0   \n",
       "3          4     33  2015.0   \n",
       "4          5     33  2015.0   \n",
       "\n",
       "                                         user_review  user_suggestion  \\\n",
       "0  I'm scared and hearing creepy voices.  So I'll...                1   \n",
       "1  Best game, more better than Sam Pepper's YouTu...                1   \n",
       "2  A littly iffy on the controls, but once you kn...                1   \n",
       "3  Great game, fun and colorful and all that.A si...                1   \n",
       "4  Not many games have the cute tag right next to...                1   \n",
       "\n",
       "   review_sentiment  \n",
       "0          0.369377  \n",
       "1          0.827403  \n",
       "2          0.953158  \n",
       "3          0.960616  \n",
       "4          0.819643  "
      ]
     },
     "execution_count": 70,
     "metadata": {},
     "output_type": "execute_result"
    }
   ],
   "source": [
    "data['title'] = LabelEncoder().fit_transform(data['title'])\n",
    "data.head()"
   ]
  },
  {
   "cell_type": "code",
   "execution_count": 71,
   "metadata": {},
   "outputs": [
    {
     "name": "stdout",
     "output_type": "stream",
     "text": [
      "<class 'pandas.core.frame.DataFrame'>\n",
      "RangeIndex: 17316 entries, 0 to 17315\n",
      "Data columns (total 6 columns):\n",
      " #   Column            Non-Null Count  Dtype  \n",
      "---  ------            --------------  -----  \n",
      " 0   review_id         17316 non-null  int64  \n",
      " 1   title             17316 non-null  int64  \n",
      " 2   year              17316 non-null  float64\n",
      " 3   user_review       17316 non-null  object \n",
      " 4   user_suggestion   17316 non-null  int64  \n",
      " 5   review_sentiment  17316 non-null  float64\n",
      "dtypes: float64(2), int64(3), object(1)\n",
      "memory usage: 811.8+ KB\n"
     ]
    }
   ],
   "source": [
    "data.info()"
   ]
  },
  {
   "cell_type": "markdown",
   "metadata": {},
   "source": [
    "We also want to experiment with using a CountVectorizer as a feature extractor, to quantify the effectiveness of our transformer model"
   ]
  },
  {
   "cell_type": "code",
   "execution_count": 72,
   "metadata": {},
   "outputs": [
    {
     "data": {
      "text/html": [
       "<div>\n",
       "<style scoped>\n",
       "    .dataframe tbody tr th:only-of-type {\n",
       "        vertical-align: middle;\n",
       "    }\n",
       "\n",
       "    .dataframe tbody tr th {\n",
       "        vertical-align: top;\n",
       "    }\n",
       "\n",
       "    .dataframe thead th {\n",
       "        text-align: right;\n",
       "    }\n",
       "</style>\n",
       "<table border=\"1\" class=\"dataframe\">\n",
       "  <thead>\n",
       "    <tr style=\"text-align: right;\">\n",
       "      <th></th>\n",
       "      <th>review_id</th>\n",
       "      <th>title</th>\n",
       "      <th>year</th>\n",
       "      <th>user_review</th>\n",
       "      <th>user_suggestion</th>\n",
       "      <th>review_sentiment</th>\n",
       "      <th>10</th>\n",
       "      <th>able</th>\n",
       "      <th>about</th>\n",
       "      <th>access</th>\n",
       "      <th>...</th>\n",
       "      <th>win</th>\n",
       "      <th>with</th>\n",
       "      <th>without</th>\n",
       "      <th>work</th>\n",
       "      <th>world</th>\n",
       "      <th>worth</th>\n",
       "      <th>would</th>\n",
       "      <th>years</th>\n",
       "      <th>you</th>\n",
       "      <th>your</th>\n",
       "    </tr>\n",
       "  </thead>\n",
       "  <tbody>\n",
       "    <tr>\n",
       "      <th>0</th>\n",
       "      <td>1</td>\n",
       "      <td>33</td>\n",
       "      <td>2016.0</td>\n",
       "      <td>I'm scared and hearing creepy voices.  So I'll...</td>\n",
       "      <td>1</td>\n",
       "      <td>0.369377</td>\n",
       "      <td>0</td>\n",
       "      <td>0</td>\n",
       "      <td>0</td>\n",
       "      <td>0</td>\n",
       "      <td>...</td>\n",
       "      <td>0</td>\n",
       "      <td>1</td>\n",
       "      <td>0</td>\n",
       "      <td>0</td>\n",
       "      <td>0</td>\n",
       "      <td>0</td>\n",
       "      <td>0</td>\n",
       "      <td>0</td>\n",
       "      <td>0</td>\n",
       "      <td>0</td>\n",
       "    </tr>\n",
       "    <tr>\n",
       "      <th>1</th>\n",
       "      <td>2</td>\n",
       "      <td>33</td>\n",
       "      <td>2016.0</td>\n",
       "      <td>Best game, more better than Sam Pepper's YouTu...</td>\n",
       "      <td>1</td>\n",
       "      <td>0.827403</td>\n",
       "      <td>1</td>\n",
       "      <td>0</td>\n",
       "      <td>0</td>\n",
       "      <td>0</td>\n",
       "      <td>...</td>\n",
       "      <td>0</td>\n",
       "      <td>0</td>\n",
       "      <td>0</td>\n",
       "      <td>0</td>\n",
       "      <td>0</td>\n",
       "      <td>0</td>\n",
       "      <td>0</td>\n",
       "      <td>0</td>\n",
       "      <td>4</td>\n",
       "      <td>1</td>\n",
       "    </tr>\n",
       "    <tr>\n",
       "      <th>2</th>\n",
       "      <td>3</td>\n",
       "      <td>33</td>\n",
       "      <td>2016.0</td>\n",
       "      <td>A littly iffy on the controls, but once you kn...</td>\n",
       "      <td>1</td>\n",
       "      <td>0.953158</td>\n",
       "      <td>0</td>\n",
       "      <td>0</td>\n",
       "      <td>0</td>\n",
       "      <td>0</td>\n",
       "      <td>...</td>\n",
       "      <td>0</td>\n",
       "      <td>1</td>\n",
       "      <td>0</td>\n",
       "      <td>0</td>\n",
       "      <td>0</td>\n",
       "      <td>0</td>\n",
       "      <td>0</td>\n",
       "      <td>0</td>\n",
       "      <td>2</td>\n",
       "      <td>0</td>\n",
       "    </tr>\n",
       "    <tr>\n",
       "      <th>3</th>\n",
       "      <td>4</td>\n",
       "      <td>33</td>\n",
       "      <td>2015.0</td>\n",
       "      <td>Great game, fun and colorful and all that.A si...</td>\n",
       "      <td>1</td>\n",
       "      <td>0.960616</td>\n",
       "      <td>0</td>\n",
       "      <td>0</td>\n",
       "      <td>0</td>\n",
       "      <td>0</td>\n",
       "      <td>...</td>\n",
       "      <td>0</td>\n",
       "      <td>0</td>\n",
       "      <td>0</td>\n",
       "      <td>0</td>\n",
       "      <td>0</td>\n",
       "      <td>0</td>\n",
       "      <td>0</td>\n",
       "      <td>0</td>\n",
       "      <td>0</td>\n",
       "      <td>0</td>\n",
       "    </tr>\n",
       "    <tr>\n",
       "      <th>4</th>\n",
       "      <td>5</td>\n",
       "      <td>33</td>\n",
       "      <td>2015.0</td>\n",
       "      <td>Not many games have the cute tag right next to...</td>\n",
       "      <td>1</td>\n",
       "      <td>0.819643</td>\n",
       "      <td>0</td>\n",
       "      <td>0</td>\n",
       "      <td>0</td>\n",
       "      <td>0</td>\n",
       "      <td>...</td>\n",
       "      <td>0</td>\n",
       "      <td>0</td>\n",
       "      <td>0</td>\n",
       "      <td>0</td>\n",
       "      <td>0</td>\n",
       "      <td>0</td>\n",
       "      <td>0</td>\n",
       "      <td>0</td>\n",
       "      <td>2</td>\n",
       "      <td>0</td>\n",
       "    </tr>\n",
       "  </tbody>\n",
       "</table>\n",
       "<p>5 rows × 256 columns</p>\n",
       "</div>"
      ],
      "text/plain": [
       "   review_id  title    year  \\\n",
       "0          1     33  2016.0   \n",
       "1          2     33  2016.0   \n",
       "2          3     33  2016.0   \n",
       "3          4     33  2015.0   \n",
       "4          5     33  2015.0   \n",
       "\n",
       "                                         user_review  user_suggestion  \\\n",
       "0  I'm scared and hearing creepy voices.  So I'll...                1   \n",
       "1  Best game, more better than Sam Pepper's YouTu...                1   \n",
       "2  A littly iffy on the controls, but once you kn...                1   \n",
       "3  Great game, fun and colorful and all that.A si...                1   \n",
       "4  Not many games have the cute tag right next to...                1   \n",
       "\n",
       "   review_sentiment  10  able  about  access  ...  win  with  without  work  \\\n",
       "0          0.369377   0     0      0       0  ...    0     1        0     0   \n",
       "1          0.827403   1     0      0       0  ...    0     0        0     0   \n",
       "2          0.953158   0     0      0       0  ...    0     1        0     0   \n",
       "3          0.960616   0     0      0       0  ...    0     0        0     0   \n",
       "4          0.819643   0     0      0       0  ...    0     0        0     0   \n",
       "\n",
       "   world  worth  would  years  you  your  \n",
       "0      0      0      0      0    0     0  \n",
       "1      0      0      0      0    4     1  \n",
       "2      0      0      0      0    2     0  \n",
       "3      0      0      0      0    0     0  \n",
       "4      0      0      0      0    2     0  \n",
       "\n",
       "[5 rows x 256 columns]"
      ]
     },
     "execution_count": 72,
     "metadata": {},
     "output_type": "execute_result"
    }
   ],
   "source": [
    "from sklearn.feature_extraction.text import CountVectorizer\n",
    "count_vect = CountVectorizer(max_features=250)\n",
    "counts = count_vect.fit_transform(data['user_review'])\n",
    "\n",
    "# Convert counts to a DataFrame\n",
    "counts_df = pd.DataFrame(counts.toarray(), columns=count_vect.get_feature_names_out())\n",
    "\n",
    "# Concatenate counts with the original DataFrame\n",
    "data_with_counts = data.copy()\n",
    "data_with_counts = pd.concat([data_with_counts, counts_df], axis=1)\n",
    "data_with_counts.head()"
   ]
  },
  {
   "cell_type": "code",
   "execution_count": 73,
   "metadata": {},
   "outputs": [
    {
     "data": {
      "text/html": [
       "<div>\n",
       "<style scoped>\n",
       "    .dataframe tbody tr th:only-of-type {\n",
       "        vertical-align: middle;\n",
       "    }\n",
       "\n",
       "    .dataframe tbody tr th {\n",
       "        vertical-align: top;\n",
       "    }\n",
       "\n",
       "    .dataframe thead th {\n",
       "        text-align: right;\n",
       "    }\n",
       "</style>\n",
       "<table border=\"1\" class=\"dataframe\">\n",
       "  <thead>\n",
       "    <tr style=\"text-align: right;\">\n",
       "      <th></th>\n",
       "      <th>title</th>\n",
       "      <th>year</th>\n",
       "      <th>user_suggestion</th>\n",
       "      <th>review_sentiment</th>\n",
       "    </tr>\n",
       "  </thead>\n",
       "  <tbody>\n",
       "    <tr>\n",
       "      <th>0</th>\n",
       "      <td>33</td>\n",
       "      <td>2016.0</td>\n",
       "      <td>1</td>\n",
       "      <td>0.369377</td>\n",
       "    </tr>\n",
       "    <tr>\n",
       "      <th>1</th>\n",
       "      <td>33</td>\n",
       "      <td>2016.0</td>\n",
       "      <td>1</td>\n",
       "      <td>0.827403</td>\n",
       "    </tr>\n",
       "    <tr>\n",
       "      <th>2</th>\n",
       "      <td>33</td>\n",
       "      <td>2016.0</td>\n",
       "      <td>1</td>\n",
       "      <td>0.953158</td>\n",
       "    </tr>\n",
       "    <tr>\n",
       "      <th>3</th>\n",
       "      <td>33</td>\n",
       "      <td>2015.0</td>\n",
       "      <td>1</td>\n",
       "      <td>0.960616</td>\n",
       "    </tr>\n",
       "    <tr>\n",
       "      <th>4</th>\n",
       "      <td>33</td>\n",
       "      <td>2015.0</td>\n",
       "      <td>1</td>\n",
       "      <td>0.819643</td>\n",
       "    </tr>\n",
       "  </tbody>\n",
       "</table>\n",
       "</div>"
      ],
      "text/plain": [
       "   title    year  user_suggestion  review_sentiment\n",
       "0     33  2016.0                1          0.369377\n",
       "1     33  2016.0                1          0.827403\n",
       "2     33  2016.0                1          0.953158\n",
       "3     33  2015.0                1          0.960616\n",
       "4     33  2015.0                1          0.819643"
      ]
     },
     "execution_count": 73,
     "metadata": {},
     "output_type": "execute_result"
    }
   ],
   "source": [
    "data.drop(['user_review', 'review_id'], inplace=True, axis=1) # we do not need this column anymore   \n",
    "data_with_counts.drop(['user_review', 'review_id'], inplace=True, axis=1)   \n",
    "data.head()"
   ]
  },
  {
   "cell_type": "code",
   "execution_count": 74,
   "metadata": {},
   "outputs": [
    {
     "data": {
      "image/png": "[encoded data removed]",
      "text/plain": [
       "<Figure size 1000x800 with 2 Axes>"
      ]
     },
     "metadata": {},
     "output_type": "display_data"
    }
   ],
   "source": [
    "correlation_matrix = data.corr()\n",
    "\n",
    "# Heatmap of the correlation matrix\n",
    "plt.figure(figsize=(10,8))\n",
    "sns.heatmap(correlation_matrix, annot=False, cmap='jet')\n",
    "plt.title(\"Heatmap of the correlation matrix\")\n",
    "plt.show()\n",
    "\n",
    "# Correlation graph of each column with the class column\n",
    "# plt.figure(figsize=(10,4))\n",
    "# sns.barplot(x=data.index, y=data.values, palette='coolwarm')\n",
    "# plt.xticks(rotation=45)\n",
    "# plt.title(\"Correlation graph of each column with the class column\")\n",
    "# plt.show()"
   ]
  },
  {
   "cell_type": "markdown",
   "metadata": {},
   "source": [
    "We can see that the review sentiment and the user suggestion are correlated."
   ]
  },
  {
   "cell_type": "markdown",
   "metadata": {},
   "source": [
    "### 4. Model Selection"
   ]
  },
  {
   "cell_type": "code",
   "execution_count": 75,
   "metadata": {},
   "outputs": [],
   "source": [
    "from sklearn.model_selection import train_test_split, GridSearchCV, LeaveOneOut\n",
    "from sklearn.metrics import accuracy_score, log_loss, confusion_matrix, f1_score, precision_score, recall_score, roc_auc_score, roc_curve, classification_report\n",
    "from sklearn.linear_model import LogisticRegression\n",
    "from sklearn.svm import SVC\n",
    "from sklearn.ensemble import RandomForestClassifier\n",
    "from xgboost import XGBClassifier"
   ]
  },
  {
   "cell_type": "code",
   "execution_count": 76,
   "metadata": {},
   "outputs": [],
   "source": [
    "X, y = data.drop(['user_suggestion'], axis=1), data['user_suggestion']\n",
    "\n",
    "X_train, X_test, y_train, y_test = train_test_split(X, y, test_size=0.2, random_state=42)\n",
    "X_train, X_val, y_train, y_val = train_test_split(X_train, y_train, test_size=0.2, random_state=42)"
   ]
  },
  {
   "cell_type": "code",
   "execution_count": 77,
   "metadata": {},
   "outputs": [
    {
     "data": {
      "text/plain": [
       "((11081, 3), (3464, 3), (11081,), (3464,))"
      ]
     },
     "execution_count": 77,
     "metadata": {},
     "output_type": "execute_result"
    }
   ],
   "source": [
    "X_train.shape, X_test.shape, y_train.shape, y_test.shape"
   ]
  },
  {
   "cell_type": "code",
   "execution_count": 78,
   "metadata": {},
   "outputs": [
    {
     "name": "stdout",
     "output_type": "stream",
     "text": [
      "Number of rows in train dataset: 11081, 63.99%\n",
      "Number of rows in test dataset: 3464, 20.00%\n"
     ]
    }
   ],
   "source": [
    "print(f\"Number of rows in train dataset: {X_train.shape[0]}, {X_train.shape[0]/data.shape[0]*100:0.2f}%\")\n",
    "print(f\"Number of rows in test dataset: {X_test.shape[0]}, {X_test.shape[0]/data.shape[0]*100:0.2f}%\")"
   ]
  },
  {
   "cell_type": "code",
   "execution_count": 79,
   "metadata": {},
   "outputs": [
    {
     "data": {
      "text/html": [
       "<div>\n",
       "<style scoped>\n",
       "    .dataframe tbody tr th:only-of-type {\n",
       "        vertical-align: middle;\n",
       "    }\n",
       "\n",
       "    .dataframe tbody tr th {\n",
       "        vertical-align: top;\n",
       "    }\n",
       "\n",
       "    .dataframe thead th {\n",
       "        text-align: right;\n",
       "    }\n",
       "</style>\n",
       "<table border=\"1\" class=\"dataframe\">\n",
       "  <thead>\n",
       "    <tr style=\"text-align: right;\">\n",
       "      <th></th>\n",
       "      <th>title</th>\n",
       "      <th>year</th>\n",
       "      <th>review_sentiment</th>\n",
       "    </tr>\n",
       "  </thead>\n",
       "  <tbody>\n",
       "    <tr>\n",
       "      <th>8476</th>\n",
       "      <td>25</td>\n",
       "      <td>2018.0</td>\n",
       "      <td>0.025107</td>\n",
       "    </tr>\n",
       "    <tr>\n",
       "      <th>8068</th>\n",
       "      <td>20</td>\n",
       "      <td>2018.0</td>\n",
       "      <td>0.044324</td>\n",
       "    </tr>\n",
       "    <tr>\n",
       "      <th>1619</th>\n",
       "      <td>10</td>\n",
       "      <td>2016.0</td>\n",
       "      <td>0.049760</td>\n",
       "    </tr>\n",
       "    <tr>\n",
       "      <th>3809</th>\n",
       "      <td>35</td>\n",
       "      <td>2015.0</td>\n",
       "      <td>0.989106</td>\n",
       "    </tr>\n",
       "    <tr>\n",
       "      <th>2361</th>\n",
       "      <td>21</td>\n",
       "      <td>2018.0</td>\n",
       "      <td>0.926812</td>\n",
       "    </tr>\n",
       "  </tbody>\n",
       "</table>\n",
       "</div>"
      ],
      "text/plain": [
       "      title    year  review_sentiment\n",
       "8476     25  2018.0          0.025107\n",
       "8068     20  2018.0          0.044324\n",
       "1619     10  2016.0          0.049760\n",
       "3809     35  2015.0          0.989106\n",
       "2361     21  2018.0          0.926812"
      ]
     },
     "execution_count": 79,
     "metadata": {},
     "output_type": "execute_result"
    }
   ],
   "source": [
    "X_train.head()"
   ]
  },
  {
   "cell_type": "markdown",
   "metadata": {},
   "source": [
    "For the first model, we'll try training a random forest classifier on the features extracted from the CountVectorizer"
   ]
  },
  {
   "cell_type": "code",
   "execution_count": 80,
   "metadata": {},
   "outputs": [
    {
     "data": {
      "text/html": [
       "<style>#sk-container-id-2 {color: black;}#sk-container-id-2 pre{padding: 0;}#sk-container-id-2 div.sk-toggleable {background-color: white;}#sk-container-id-2 label.sk-toggleable__label {cursor: pointer;display: block;width: 100%;margin-bottom: 0;padding: 0.3em;box-sizing: border-box;text-align: center;}#sk-container-id-2 label.sk-toggleable__label-arrow:before {content: \"▸\";float: left;margin-right: 0.25em;color: #696969;}#sk-container-id-2 label.sk-toggleable__label-arrow:hover:before {color: black;}#sk-container-id-2 div.sk-estimator:hover label.sk-toggleable__label-arrow:before {color: black;}#sk-container-id-2 div.sk-toggleable__content {max-height: 0;max-width: 0;overflow: hidden;text-align: left;background-color: #f0f8ff;}#sk-container-id-2 div.sk-toggleable__content pre {margin: 0.2em;color: black;border-radius: 0.25em;background-color: #f0f8ff;}#sk-container-id-2 input.sk-toggleable__control:checked~div.sk-toggleable__content {max-height: 200px;max-width: 100%;overflow: auto;}#sk-container-id-2 input.sk-toggleable__control:checked~label.sk-toggleable__label-arrow:before {content: \"▾\";}#sk-container-id-2 div.sk-estimator input.sk-toggleable__control:checked~label.sk-toggleable__label {background-color: #d4ebff;}#sk-container-id-2 div.sk-label input.sk-toggleable__control:checked~label.sk-toggleable__label {background-color: #d4ebff;}#sk-container-id-2 input.sk-hidden--visually {border: 0;clip: rect(1px 1px 1px 1px);clip: rect(1px, 1px, 1px, 1px);height: 1px;margin: -1px;overflow: hidden;padding: 0;position: absolute;width: 1px;}#sk-container-id-2 div.sk-estimator {font-family: monospace;background-color: #f0f8ff;border: 1px dotted black;border-radius: 0.25em;box-sizing: border-box;margin-bottom: 0.5em;}#sk-container-id-2 div.sk-estimator:hover {background-color: #d4ebff;}#sk-container-id-2 div.sk-parallel-item::after {content: \"\";width: 100%;border-bottom: 1px solid gray;flex-grow: 1;}#sk-container-id-2 div.sk-label:hover label.sk-toggleable__label {background-color: #d4ebff;}#sk-container-id-2 div.sk-serial::before {content: \"\";position: absolute;border-left: 1px solid gray;box-sizing: border-box;top: 0;bottom: 0;left: 50%;z-index: 0;}#sk-container-id-2 div.sk-serial {display: flex;flex-direction: column;align-items: center;background-color: white;padding-right: 0.2em;padding-left: 0.2em;position: relative;}#sk-container-id-2 div.sk-item {position: relative;z-index: 1;}#sk-container-id-2 div.sk-parallel {display: flex;align-items: stretch;justify-content: center;background-color: white;position: relative;}#sk-container-id-2 div.sk-item::before, #sk-container-id-2 div.sk-parallel-item::before {content: \"\";position: absolute;border-left: 1px solid gray;box-sizing: border-box;top: 0;bottom: 0;left: 50%;z-index: -1;}#sk-container-id-2 div.sk-parallel-item {display: flex;flex-direction: column;z-index: 1;position: relative;background-color: white;}#sk-container-id-2 div.sk-parallel-item:first-child::after {align-self: flex-end;width: 50%;}#sk-container-id-2 div.sk-parallel-item:last-child::after {align-self: flex-start;width: 50%;}#sk-container-id-2 div.sk-parallel-item:only-child::after {width: 0;}#sk-container-id-2 div.sk-dashed-wrapped {border: 1px dashed gray;margin: 0 0.4em 0.5em 0.4em;box-sizing: border-box;padding-bottom: 0.4em;background-color: white;}#sk-container-id-2 div.sk-label label {font-family: monospace;font-weight: bold;display: inline-block;line-height: 1.2em;}#sk-container-id-2 div.sk-label-container {text-align: center;}#sk-container-id-2 div.sk-container {/* jupyter's `normalize.less` sets `[hidden] { display: none; }` but bootstrap.min.css set `[hidden] { display: none !important; }` so we also need the `!important` here to be able to override the default hidden behavior on the sphinx rendered scikit-learn.org. See: https://github.com/scikit-learn/scikit-learn/issues/21755 */display: inline-block !important;position: relative;}#sk-container-id-2 div.sk-text-repr-fallback {display: none;}</style><div id=\"sk-container-id-2\" class=\"sk-top-container\"><div class=\"sk-text-repr-fallback\"><pre>RandomForestClassifier(n_jobs=-1, random_state=42)</pre><b>In a Jupyter environment, please rerun this cell to show the HTML representation or trust the notebook. <br />On GitHub, the HTML representation is unable to render, please try loading this page with nbviewer.org.</b></div><div class=\"sk-container\" hidden><div class=\"sk-item\"><div class=\"sk-estimator sk-toggleable\"><input class=\"sk-toggleable__control sk-hidden--visually\" id=\"sk-estimator-id-2\" type=\"checkbox\" checked><label for=\"sk-estimator-id-2\" class=\"sk-toggleable__label sk-toggleable__label-arrow\">RandomForestClassifier</label><div class=\"sk-toggleable__content\"><pre>RandomForestClassifier(n_jobs=-1, random_state=42)</pre></div></div></div></div></div>"
      ],
      "text/plain": [
       "RandomForestClassifier(n_jobs=-1, random_state=42)"
      ]
     },
     "execution_count": 80,
     "metadata": {},
     "output_type": "execute_result"
    }
   ],
   "source": [
    "from sklearn.ensemble import RandomForestClassifier\n",
    "\n",
    "rf = RandomForestClassifier(n_estimators=100, random_state=42, n_jobs=-1)\n",
    "rf.fit(X_train, y_train)"
   ]
  },
  {
   "cell_type": "code",
   "execution_count": 81,
   "metadata": {},
   "outputs": [
    {
     "name": "stdout",
     "output_type": "stream",
     "text": [
      "Accuracy: 82.25%\n"
     ]
    }
   ],
   "source": [
    "preds = rf.predict(X_test)\n",
    "print(f\"Accuracy: {rf.score(X_test, y_test)*100:0.2f}%\")"
   ]
  },
  {
   "cell_type": "code",
   "execution_count": 82,
   "metadata": {},
   "outputs": [
    {
     "data": {
      "text/html": [
       "<div>\n",
       "<style scoped>\n",
       "    .dataframe tbody tr th:only-of-type {\n",
       "        vertical-align: middle;\n",
       "    }\n",
       "\n",
       "    .dataframe tbody tr th {\n",
       "        vertical-align: top;\n",
       "    }\n",
       "\n",
       "    .dataframe thead th {\n",
       "        text-align: right;\n",
       "    }\n",
       "</style>\n",
       "<table border=\"1\" class=\"dataframe\">\n",
       "  <thead>\n",
       "    <tr style=\"text-align: right;\">\n",
       "      <th></th>\n",
       "      <th>Model Name</th>\n",
       "      <th>Notes</th>\n",
       "      <th>Accuracy (Training)</th>\n",
       "      <th>Log Loss (Training)</th>\n",
       "      <th>F1 Score (Training)</th>\n",
       "      <th>Precision (Training)</th>\n",
       "      <th>Recall (Training)</th>\n",
       "      <th>Accuracy (Validation)</th>\n",
       "      <th>Log Loss (Validation)</th>\n",
       "      <th>F1 Score (Validation)</th>\n",
       "      <th>Precision (Validation)</th>\n",
       "      <th>Recall (Validation)</th>\n",
       "    </tr>\n",
       "  </thead>\n",
       "  <tbody>\n",
       "  </tbody>\n",
       "</table>\n",
       "</div>"
      ],
      "text/plain": [
       "Empty DataFrame\n",
       "Columns: [Model Name, Notes, Accuracy (Training), Log Loss (Training), F1 Score (Training), Precision (Training), Recall (Training), Accuracy (Validation), Log Loss (Validation), F1 Score (Validation), Precision (Validation), Recall (Validation)]\n",
       "Index: []"
      ]
     },
     "execution_count": 82,
     "metadata": {},
     "output_type": "execute_result"
    }
   ],
   "source": [
    "models_df = pd.DataFrame(columns=[\n",
    "                                \"Model Name\",\n",
    "                                \"Notes\",\n",
    "                                \"Accuracy (Training)\",\n",
    "                                \"Log Loss (Training)\",\n",
    "                                \"F1 Score (Training)\",\n",
    "                                \"Precision (Training)\",\n",
    "                                \"Recall (Training)\",\n",
    "                                \"Accuracy (Validation)\",\n",
    "                                \"Log Loss (Validation)\",\n",
    "                                \"F1 Score (Validation)\",\n",
    "                                \"Precision (Validation)\",\n",
    "                                \"Recall (Validation)\",])\n",
    "models_df.head()"
   ]
  },
  {
   "cell_type": "code",
   "execution_count": 83,
   "metadata": {},
   "outputs": [],
   "source": [
    "def add_model_stats(model, model_name, notes, X_train, y_train, X_val, y_val, models_df):\n",
    "    X_train_predictions = model.predict(X_train)\n",
    "    X_train_accuracy = accuracy_score(y_train, X_train_predictions)\n",
    "    print(f\"{model_name} validation Accuracy Score on training set: {X_train_accuracy:0.4f}\")\n",
    "\n",
    "    X_val_predictions = model.predict(X_val)\n",
    "    X_val_accuracy = accuracy_score(y_val, X_val_predictions)\n",
    "    print(f\"{model_name} validation Accuracy Score on validation set: {X_val_accuracy:0.4f}\")\n",
    "\n",
    "    # Get probabilities\n",
    "    X_train_probabilities = model.predict_proba(X_train)\n",
    "    X_val_probabilities = model.predict_proba(X_val)\n",
    "\n",
    "    log_loss_training_set = log_loss(y_train, X_train_probabilities)\n",
    "    print(f\"{model_name} validation Log Loss on validation set: {log_loss_training_set:0.4f}\")\n",
    "\n",
    "    log_loss_validation_set = log_loss(y_val, X_val_probabilities)\n",
    "    print(f\"{model_name} validation Log Loss on validation set: {log_loss_validation_set:0.4f}\")\n",
    "\n",
    "    model_f1_train = f1_score(y_train, X_train_predictions, average='weighted')\n",
    "    model_precision_train = precision_score(y_train, X_train_predictions, average=\"weighted\")\n",
    "    model_recall_train = recall_score(y_train, X_train_predictions, average=\"weighted\")\n",
    "\n",
    "    model_f1_val = f1_score(y_val, X_val_predictions, average='weighted')\n",
    "    print(f\"{model_name} validation F1 Score on validation set: {model_f1_val:0.4f}\")\n",
    "    model_precision_val = precision_score(y_val, X_val_predictions, average=\"weighted\")\n",
    "    print(f\"{model_name} validation Precision Score on validation set: {model_precision_val:0.4f}\")\n",
    "    model_recall_val = recall_score(y_val, X_val_predictions, average=\"weighted\")\n",
    "    print(f\"{model_name} validation Recall Score on validation set: {model_recall_val:0.4f}\")\n",
    "\n",
    "    df_entry = {\n",
    "            \"Model Name\": model_name,\n",
    "            \"Notes\": notes,\n",
    "            \"Accuracy (Training)\": X_train_accuracy,\n",
    "            \"Log Loss (Training)\": log_loss_training_set,\n",
    "            \"F1 Score (Training)\": model_f1_train,\n",
    "            \"Precision (Training)\": model_precision_train,\n",
    "            \"Recall (Training)\": model_recall_train,\n",
    "            \"Accuracy (Validation)\": X_val_accuracy,\n",
    "            \"Log Loss (Validation)\": log_loss_validation_set,\n",
    "            \"F1 Score (Validation)\": model_f1_val,\n",
    "            \"Precision (Validation)\": model_precision_val,\n",
    "            \"Recall (Validation)\": model_recall_val}\n",
    "\n",
    "    # As of Pandas 2.0 append is deprecated and we have to use concat now, not a fan\n",
    "    # See this post https://stackoverflow.com/questions/75956209/error-dataframe-object-has-no-attribute-append\n",
    "    models_df = pd.concat([models_df, pd.DataFrame([df_entry])], ignore_index=True)\n",
    "    return models_df"
   ]
  },
  {
   "cell_type": "code",
   "execution_count": 84,
   "metadata": {},
   "outputs": [],
   "source": [
    "logistic_model = LogisticRegression(random_state=42, max_iter=10000)\n",
    "svc_model_linear = SVC(random_state=42, kernel=\"linear\", probability=True, gamma=\"auto\")\n",
    "svc_model_rbf = SVC(random_state=42, kernel=\"rbf\", probability=True, gamma=\"auto\")\n",
    "random_forest_classifier = RandomForestClassifier(random_state=42, n_jobs=-1, n_estimators=200, max_depth=4, criterion=\"entropy\")\n",
    "xgb_classifier = XGBClassifier(random_state=42, n_jobs=-1, n_estimators=200, gamma=0.1, learning_rate=0.1)\n",
    "\n",
    "models = [logistic_model, svc_model_linear, svc_model_rbf, random_forest_classifier, xgb_classifier]\n",
    "names = [\"Logistic Regression\", \"SVC Linear\", \"SVC RBF\", \"Random Forest\", \"XGBoost\"]\n",
    "models_df = pd.DataFrame()"
   ]
  },
  {
   "cell_type": "code",
   "execution_count": 85,
   "metadata": {},
   "outputs": [
    {
     "name": "stdout",
     "output_type": "stream",
     "text": [
      "Logistic Regression validation Accuracy Score on training set: 0.8133\n",
      "Logistic Regression validation Accuracy Score on validation set: 0.8058\n",
      "Logistic Regression validation Log Loss on validation set: 0.4381\n",
      "Logistic Regression validation Log Loss on validation set: 0.4421\n",
      "Logistic Regression validation F1 Score on validation set: 0.8072\n",
      "Logistic Regression validation Precision Score on validation set: 0.8209\n",
      "Logistic Regression validation Recall Score on validation set: 0.8058\n",
      "SVC Linear validation Accuracy Score on training set: 0.8199\n",
      "SVC Linear validation Accuracy Score on validation set: 0.8210\n",
      "SVC Linear validation Log Loss on validation set: 0.7629\n",
      "SVC Linear validation Log Loss on validation set: 0.7773\n",
      "SVC Linear validation F1 Score on validation set: 0.8213\n",
      "SVC Linear validation Precision Score on validation set: 0.8219\n",
      "SVC Linear validation Recall Score on validation set: 0.8210\n",
      "SVC RBF validation Accuracy Score on training set: 0.8569\n",
      "SVC RBF validation Accuracy Score on validation set: 0.8427\n",
      "SVC RBF validation Log Loss on validation set: 0.3529\n",
      "SVC RBF validation Log Loss on validation set: 0.3832\n",
      "SVC RBF validation F1 Score on validation set: 0.8431\n",
      "SVC RBF validation Precision Score on validation set: 0.8442\n",
      "SVC RBF validation Recall Score on validation set: 0.8427\n",
      "Random Forest validation Accuracy Score on training set: 0.8346\n",
      "Random Forest validation Accuracy Score on validation set: 0.8340\n",
      "Random Forest validation Log Loss on validation set: 0.4091\n",
      "Random Forest validation Log Loss on validation set: 0.4137\n",
      "Random Forest validation F1 Score on validation set: 0.8348\n",
      "Random Forest validation Precision Score on validation set: 0.8380\n",
      "Random Forest validation Recall Score on validation set: 0.8340\n",
      "XGBoost validation Accuracy Score on training set: 0.8861\n",
      "XGBoost validation Accuracy Score on validation set: 0.8556\n",
      "XGBoost validation Log Loss on validation set: 0.2637\n",
      "XGBoost validation Log Loss on validation set: 0.3367\n",
      "XGBoost validation F1 Score on validation set: 0.8558\n",
      "XGBoost validation Precision Score on validation set: 0.8561\n",
      "XGBoost validation Recall Score on validation set: 0.8556\n"
     ]
    },
    {
     "data": {
      "text/html": [
       "<div>\n",
       "<style scoped>\n",
       "    .dataframe tbody tr th:only-of-type {\n",
       "        vertical-align: middle;\n",
       "    }\n",
       "\n",
       "    .dataframe tbody tr th {\n",
       "        vertical-align: top;\n",
       "    }\n",
       "\n",
       "    .dataframe thead th {\n",
       "        text-align: right;\n",
       "    }\n",
       "</style>\n",
       "<table border=\"1\" class=\"dataframe\">\n",
       "  <thead>\n",
       "    <tr style=\"text-align: right;\">\n",
       "      <th></th>\n",
       "      <th>Model Name</th>\n",
       "      <th>Notes</th>\n",
       "      <th>Accuracy (Training)</th>\n",
       "      <th>Log Loss (Training)</th>\n",
       "      <th>F1 Score (Training)</th>\n",
       "      <th>Precision (Training)</th>\n",
       "      <th>Recall (Training)</th>\n",
       "      <th>Accuracy (Validation)</th>\n",
       "      <th>Log Loss (Validation)</th>\n",
       "      <th>F1 Score (Validation)</th>\n",
       "      <th>Precision (Validation)</th>\n",
       "      <th>Recall (Validation)</th>\n",
       "    </tr>\n",
       "  </thead>\n",
       "  <tbody>\n",
       "    <tr>\n",
       "      <th>0</th>\n",
       "      <td>Logistic Regression</td>\n",
       "      <td>Processed Data</td>\n",
       "      <td>0.813284</td>\n",
       "      <td>0.438126</td>\n",
       "      <td>0.814161</td>\n",
       "      <td>0.823962</td>\n",
       "      <td>0.813284</td>\n",
       "      <td>0.805846</td>\n",
       "      <td>0.442088</td>\n",
       "      <td>0.807156</td>\n",
       "      <td>0.820949</td>\n",
       "      <td>0.805846</td>\n",
       "    </tr>\n",
       "    <tr>\n",
       "      <th>1</th>\n",
       "      <td>SVC Linear</td>\n",
       "      <td>Processed Data</td>\n",
       "      <td>0.819872</td>\n",
       "      <td>0.762855</td>\n",
       "      <td>0.819802</td>\n",
       "      <td>0.819745</td>\n",
       "      <td>0.819872</td>\n",
       "      <td>0.821003</td>\n",
       "      <td>0.777349</td>\n",
       "      <td>0.821326</td>\n",
       "      <td>0.821871</td>\n",
       "      <td>0.821003</td>\n",
       "    </tr>\n",
       "    <tr>\n",
       "      <th>2</th>\n",
       "      <td>SVC RBF</td>\n",
       "      <td>Processed Data</td>\n",
       "      <td>0.856872</td>\n",
       "      <td>0.352889</td>\n",
       "      <td>0.857179</td>\n",
       "      <td>0.858026</td>\n",
       "      <td>0.856872</td>\n",
       "      <td>0.842656</td>\n",
       "      <td>0.383179</td>\n",
       "      <td>0.843109</td>\n",
       "      <td>0.844208</td>\n",
       "      <td>0.842656</td>\n",
       "    </tr>\n",
       "    <tr>\n",
       "      <th>3</th>\n",
       "      <td>Random Forest</td>\n",
       "      <td>Processed Data</td>\n",
       "      <td>0.834582</td>\n",
       "      <td>0.409097</td>\n",
       "      <td>0.835039</td>\n",
       "      <td>0.836468</td>\n",
       "      <td>0.834582</td>\n",
       "      <td>0.833995</td>\n",
       "      <td>0.413718</td>\n",
       "      <td>0.834797</td>\n",
       "      <td>0.837954</td>\n",
       "      <td>0.833995</td>\n",
       "    </tr>\n",
       "    <tr>\n",
       "      <th>4</th>\n",
       "      <td>XGBoost</td>\n",
       "      <td>Processed Data</td>\n",
       "      <td>0.886111</td>\n",
       "      <td>0.263669</td>\n",
       "      <td>0.886253</td>\n",
       "      <td>0.886558</td>\n",
       "      <td>0.886111</td>\n",
       "      <td>0.855648</td>\n",
       "      <td>0.336662</td>\n",
       "      <td>0.855831</td>\n",
       "      <td>0.856124</td>\n",
       "      <td>0.855648</td>\n",
       "    </tr>\n",
       "  </tbody>\n",
       "</table>\n",
       "</div>"
      ],
      "text/plain": [
       "            Model Name           Notes  Accuracy (Training)  \\\n",
       "0  Logistic Regression  Processed Data             0.813284   \n",
       "1           SVC Linear  Processed Data             0.819872   \n",
       "2              SVC RBF  Processed Data             0.856872   \n",
       "3        Random Forest  Processed Data             0.834582   \n",
       "4              XGBoost  Processed Data             0.886111   \n",
       "\n",
       "   Log Loss (Training)  F1 Score (Training)  Precision (Training)  \\\n",
       "0             0.438126             0.814161              0.823962   \n",
       "1             0.762855             0.819802              0.819745   \n",
       "2             0.352889             0.857179              0.858026   \n",
       "3             0.409097             0.835039              0.836468   \n",
       "4             0.263669             0.886253              0.886558   \n",
       "\n",
       "   Recall (Training)  Accuracy (Validation)  Log Loss (Validation)  \\\n",
       "0           0.813284               0.805846               0.442088   \n",
       "1           0.819872               0.821003               0.777349   \n",
       "2           0.856872               0.842656               0.383179   \n",
       "3           0.834582               0.833995               0.413718   \n",
       "4           0.886111               0.855648               0.336662   \n",
       "\n",
       "   F1 Score (Validation)  Precision (Validation)  Recall (Validation)  \n",
       "0               0.807156                0.820949             0.805846  \n",
       "1               0.821326                0.821871             0.821003  \n",
       "2               0.843109                0.844208             0.842656  \n",
       "3               0.834797                0.837954             0.833995  \n",
       "4               0.855831                0.856124             0.855648  "
      ]
     },
     "execution_count": 85,
     "metadata": {},
     "output_type": "execute_result"
    }
   ],
   "source": [
    "for i, model in enumerate(models):\n",
    "    model.fit(X_train, y_train)\n",
    "    models_df = add_model_stats(model, names[i], \"Processed Data\", X_train, y_train, X_val, y_val, models_df)\n",
    "models_df.head()"
   ]
  },
  {
   "cell_type": "code",
   "execution_count": 86,
   "metadata": {},
   "outputs": [
    {
     "data": {
      "text/html": [
       "<div>\n",
       "<style scoped>\n",
       "    .dataframe tbody tr th:only-of-type {\n",
       "        vertical-align: middle;\n",
       "    }\n",
       "\n",
       "    .dataframe tbody tr th {\n",
       "        vertical-align: top;\n",
       "    }\n",
       "\n",
       "    .dataframe thead th {\n",
       "        text-align: right;\n",
       "    }\n",
       "</style>\n",
       "<table border=\"1\" class=\"dataframe\">\n",
       "  <thead>\n",
       "    <tr style=\"text-align: right;\">\n",
       "      <th></th>\n",
       "      <th>Model Name</th>\n",
       "      <th>Notes</th>\n",
       "      <th>Accuracy (Training)</th>\n",
       "      <th>Log Loss (Training)</th>\n",
       "      <th>F1 Score (Training)</th>\n",
       "      <th>Precision (Training)</th>\n",
       "      <th>Recall (Training)</th>\n",
       "      <th>Accuracy (Validation)</th>\n",
       "      <th>Log Loss (Validation)</th>\n",
       "      <th>F1 Score (Validation)</th>\n",
       "      <th>Precision (Validation)</th>\n",
       "      <th>Recall (Validation)</th>\n",
       "    </tr>\n",
       "  </thead>\n",
       "  <tbody>\n",
       "    <tr>\n",
       "      <th>0</th>\n",
       "      <td>Logistic Regression</td>\n",
       "      <td>Processed Data</td>\n",
       "      <td>0.813284</td>\n",
       "      <td>0.438126</td>\n",
       "      <td>0.814161</td>\n",
       "      <td>0.823962</td>\n",
       "      <td>0.813284</td>\n",
       "      <td>0.805846</td>\n",
       "      <td>0.442088</td>\n",
       "      <td>0.807156</td>\n",
       "      <td>0.820949</td>\n",
       "      <td>0.805846</td>\n",
       "    </tr>\n",
       "    <tr>\n",
       "      <th>1</th>\n",
       "      <td>SVC Linear</td>\n",
       "      <td>Processed Data</td>\n",
       "      <td>0.819872</td>\n",
       "      <td>0.762855</td>\n",
       "      <td>0.819802</td>\n",
       "      <td>0.819745</td>\n",
       "      <td>0.819872</td>\n",
       "      <td>0.821003</td>\n",
       "      <td>0.777349</td>\n",
       "      <td>0.821326</td>\n",
       "      <td>0.821871</td>\n",
       "      <td>0.821003</td>\n",
       "    </tr>\n",
       "    <tr>\n",
       "      <th>2</th>\n",
       "      <td>SVC RBF</td>\n",
       "      <td>Processed Data</td>\n",
       "      <td>0.856872</td>\n",
       "      <td>0.352889</td>\n",
       "      <td>0.857179</td>\n",
       "      <td>0.858026</td>\n",
       "      <td>0.856872</td>\n",
       "      <td>0.842656</td>\n",
       "      <td>0.383179</td>\n",
       "      <td>0.843109</td>\n",
       "      <td>0.844208</td>\n",
       "      <td>0.842656</td>\n",
       "    </tr>\n",
       "    <tr>\n",
       "      <th>3</th>\n",
       "      <td>Random Forest</td>\n",
       "      <td>Processed Data</td>\n",
       "      <td>0.834582</td>\n",
       "      <td>0.409097</td>\n",
       "      <td>0.835039</td>\n",
       "      <td>0.836468</td>\n",
       "      <td>0.834582</td>\n",
       "      <td>0.833995</td>\n",
       "      <td>0.413718</td>\n",
       "      <td>0.834797</td>\n",
       "      <td>0.837954</td>\n",
       "      <td>0.833995</td>\n",
       "    </tr>\n",
       "    <tr>\n",
       "      <th>4</th>\n",
       "      <td>XGBoost</td>\n",
       "      <td>Processed Data</td>\n",
       "      <td>0.886111</td>\n",
       "      <td>0.263669</td>\n",
       "      <td>0.886253</td>\n",
       "      <td>0.886558</td>\n",
       "      <td>0.886111</td>\n",
       "      <td>0.855648</td>\n",
       "      <td>0.336662</td>\n",
       "      <td>0.855831</td>\n",
       "      <td>0.856124</td>\n",
       "      <td>0.855648</td>\n",
       "    </tr>\n",
       "  </tbody>\n",
       "</table>\n",
       "</div>"
      ],
      "text/plain": [
       "            Model Name           Notes  Accuracy (Training)  \\\n",
       "0  Logistic Regression  Processed Data             0.813284   \n",
       "1           SVC Linear  Processed Data             0.819872   \n",
       "2              SVC RBF  Processed Data             0.856872   \n",
       "3        Random Forest  Processed Data             0.834582   \n",
       "4              XGBoost  Processed Data             0.886111   \n",
       "\n",
       "   Log Loss (Training)  F1 Score (Training)  Precision (Training)  \\\n",
       "0             0.438126             0.814161              0.823962   \n",
       "1             0.762855             0.819802              0.819745   \n",
       "2             0.352889             0.857179              0.858026   \n",
       "3             0.409097             0.835039              0.836468   \n",
       "4             0.263669             0.886253              0.886558   \n",
       "\n",
       "   Recall (Training)  Accuracy (Validation)  Log Loss (Validation)  \\\n",
       "0           0.813284               0.805846               0.442088   \n",
       "1           0.819872               0.821003               0.777349   \n",
       "2           0.856872               0.842656               0.383179   \n",
       "3           0.834582               0.833995               0.413718   \n",
       "4           0.886111               0.855648               0.336662   \n",
       "\n",
       "   F1 Score (Validation)  Precision (Validation)  Recall (Validation)  \n",
       "0               0.807156                0.820949             0.805846  \n",
       "1               0.821326                0.821871             0.821003  \n",
       "2               0.843109                0.844208             0.842656  \n",
       "3               0.834797                0.837954             0.833995  \n",
       "4               0.855831                0.856124             0.855648  "
      ]
     },
     "execution_count": 86,
     "metadata": {},
     "output_type": "execute_result"
    }
   ],
   "source": [
    "models_df.head()"
   ]
  },
  {
   "cell_type": "markdown",
   "metadata": {},
   "source": [
    "Now we'll train the model on the CountVectorizer features instead of the transformer sentiment"
   ]
  },
  {
   "cell_type": "code",
   "execution_count": 87,
   "metadata": {},
   "outputs": [],
   "source": [
    "X, y = data_with_counts.drop(['user_suggestion', 'review_sentiment'], axis=1), data['user_suggestion']\n",
    "\n",
    "X_train_with_counts, X_test_with_counts, y_train_with_counts, y_test_with_counts = train_test_split(X, y, test_size=0.2, random_state=42)\n",
    "X_train_with_counts, X_val_with_counts, y_train_with_counts, y_val_with_counts = train_test_split(X_train_with_counts, y_train_with_counts, test_size=0.2, random_state=42)"
   ]
  },
  {
   "cell_type": "code",
   "execution_count": 88,
   "metadata": {},
   "outputs": [
    {
     "name": "stdout",
     "output_type": "stream",
     "text": [
      "Logistic Regression (With Counts) validation Accuracy Score on training set: 0.7800\n",
      "Logistic Regression (With Counts) validation Accuracy Score on validation set: 0.7661\n",
      "Logistic Regression (With Counts) validation Log Loss on validation set: 0.4731\n",
      "Logistic Regression (With Counts) validation Log Loss on validation set: 0.5047\n",
      "Logistic Regression (With Counts) validation F1 Score on validation set: 0.7652\n",
      "Logistic Regression (With Counts) validation Precision Score on validation set: 0.7649\n",
      "Logistic Regression (With Counts) validation Recall Score on validation set: 0.7661\n",
      "Random Forest (With Counts) validation Accuracy Score on training set: 0.6602\n",
      "Random Forest (With Counts) validation Accuracy Score on validation set: 0.6727\n",
      "Random Forest (With Counts) validation Log Loss on validation set: 0.6294\n",
      "Random Forest (With Counts) validation Log Loss on validation set: 0.6274\n",
      "Random Forest (With Counts) validation F1 Score on validation set: 0.6176\n",
      "Random Forest (With Counts) validation Precision Score on validation set: 0.7351\n",
      "Random Forest (With Counts) validation Recall Score on validation set: 0.6727\n"
     ]
    },
    {
     "data": {
      "text/html": [
       "<div>\n",
       "<style scoped>\n",
       "    .dataframe tbody tr th:only-of-type {\n",
       "        vertical-align: middle;\n",
       "    }\n",
       "\n",
       "    .dataframe tbody tr th {\n",
       "        vertical-align: top;\n",
       "    }\n",
       "\n",
       "    .dataframe thead th {\n",
       "        text-align: right;\n",
       "    }\n",
       "</style>\n",
       "<table border=\"1\" class=\"dataframe\">\n",
       "  <thead>\n",
       "    <tr style=\"text-align: right;\">\n",
       "      <th></th>\n",
       "      <th>Model Name</th>\n",
       "      <th>Notes</th>\n",
       "      <th>Accuracy (Training)</th>\n",
       "      <th>Log Loss (Training)</th>\n",
       "      <th>F1 Score (Training)</th>\n",
       "      <th>Precision (Training)</th>\n",
       "      <th>Recall (Training)</th>\n",
       "      <th>Accuracy (Validation)</th>\n",
       "      <th>Log Loss (Validation)</th>\n",
       "      <th>F1 Score (Validation)</th>\n",
       "      <th>Precision (Validation)</th>\n",
       "      <th>Recall (Validation)</th>\n",
       "    </tr>\n",
       "  </thead>\n",
       "  <tbody>\n",
       "    <tr>\n",
       "      <th>0</th>\n",
       "      <td>Logistic Regression</td>\n",
       "      <td>Processed Data</td>\n",
       "      <td>0.813284</td>\n",
       "      <td>0.438126</td>\n",
       "      <td>0.814161</td>\n",
       "      <td>0.823962</td>\n",
       "      <td>0.813284</td>\n",
       "      <td>0.805846</td>\n",
       "      <td>0.442088</td>\n",
       "      <td>0.807156</td>\n",
       "      <td>0.820949</td>\n",
       "      <td>0.805846</td>\n",
       "    </tr>\n",
       "    <tr>\n",
       "      <th>1</th>\n",
       "      <td>SVC Linear</td>\n",
       "      <td>Processed Data</td>\n",
       "      <td>0.819872</td>\n",
       "      <td>0.762855</td>\n",
       "      <td>0.819802</td>\n",
       "      <td>0.819745</td>\n",
       "      <td>0.819872</td>\n",
       "      <td>0.821003</td>\n",
       "      <td>0.777349</td>\n",
       "      <td>0.821326</td>\n",
       "      <td>0.821871</td>\n",
       "      <td>0.821003</td>\n",
       "    </tr>\n",
       "    <tr>\n",
       "      <th>2</th>\n",
       "      <td>SVC RBF</td>\n",
       "      <td>Processed Data</td>\n",
       "      <td>0.856872</td>\n",
       "      <td>0.352889</td>\n",
       "      <td>0.857179</td>\n",
       "      <td>0.858026</td>\n",
       "      <td>0.856872</td>\n",
       "      <td>0.842656</td>\n",
       "      <td>0.383179</td>\n",
       "      <td>0.843109</td>\n",
       "      <td>0.844208</td>\n",
       "      <td>0.842656</td>\n",
       "    </tr>\n",
       "    <tr>\n",
       "      <th>3</th>\n",
       "      <td>Random Forest</td>\n",
       "      <td>Processed Data</td>\n",
       "      <td>0.834582</td>\n",
       "      <td>0.409097</td>\n",
       "      <td>0.835039</td>\n",
       "      <td>0.836468</td>\n",
       "      <td>0.834582</td>\n",
       "      <td>0.833995</td>\n",
       "      <td>0.413718</td>\n",
       "      <td>0.834797</td>\n",
       "      <td>0.837954</td>\n",
       "      <td>0.833995</td>\n",
       "    </tr>\n",
       "    <tr>\n",
       "      <th>4</th>\n",
       "      <td>XGBoost</td>\n",
       "      <td>Processed Data</td>\n",
       "      <td>0.886111</td>\n",
       "      <td>0.263669</td>\n",
       "      <td>0.886253</td>\n",
       "      <td>0.886558</td>\n",
       "      <td>0.886111</td>\n",
       "      <td>0.855648</td>\n",
       "      <td>0.336662</td>\n",
       "      <td>0.855831</td>\n",
       "      <td>0.856124</td>\n",
       "      <td>0.855648</td>\n",
       "    </tr>\n",
       "  </tbody>\n",
       "</table>\n",
       "</div>"
      ],
      "text/plain": [
       "            Model Name           Notes  Accuracy (Training)  \\\n",
       "0  Logistic Regression  Processed Data             0.813284   \n",
       "1           SVC Linear  Processed Data             0.819872   \n",
       "2              SVC RBF  Processed Data             0.856872   \n",
       "3        Random Forest  Processed Data             0.834582   \n",
       "4              XGBoost  Processed Data             0.886111   \n",
       "\n",
       "   Log Loss (Training)  F1 Score (Training)  Precision (Training)  \\\n",
       "0             0.438126             0.814161              0.823962   \n",
       "1             0.762855             0.819802              0.819745   \n",
       "2             0.352889             0.857179              0.858026   \n",
       "3             0.409097             0.835039              0.836468   \n",
       "4             0.263669             0.886253              0.886558   \n",
       "\n",
       "   Recall (Training)  Accuracy (Validation)  Log Loss (Validation)  \\\n",
       "0           0.813284               0.805846               0.442088   \n",
       "1           0.819872               0.821003               0.777349   \n",
       "2           0.856872               0.842656               0.383179   \n",
       "3           0.834582               0.833995               0.413718   \n",
       "4           0.886111               0.855648               0.336662   \n",
       "\n",
       "   F1 Score (Validation)  Precision (Validation)  Recall (Validation)  \n",
       "0               0.807156                0.820949             0.805846  \n",
       "1               0.821326                0.821871             0.821003  \n",
       "2               0.843109                0.844208             0.842656  \n",
       "3               0.834797                0.837954             0.833995  \n",
       "4               0.855831                0.856124             0.855648  "
      ]
     },
     "execution_count": 88,
     "metadata": {},
     "output_type": "execute_result"
    }
   ],
   "source": [
    "logistic_model_counts = LogisticRegression(random_state=42, max_iter=10000)\n",
    "random_forest_classifier_counts = RandomForestClassifier(random_state=42, n_jobs=-1, n_estimators=200, max_depth=4, criterion=\"entropy\")\n",
    "\n",
    "models = [logistic_model_counts, random_forest_classifier_counts]\n",
    "names = [\"Logistic Regression (With Counts)\", \"Random Forest (With Counts)\"]\n",
    "\n",
    "models_df = pd.DataFrame() # reset the dataframe\n",
    "\n",
    "for i, model in enumerate(models):\n",
    "    model.fit(X_train_with_counts, y_train_with_counts)\n",
    "    models_df = add_model_stats(model, names[i], \"With Data Counts\", X_train_with_counts, y_train_with_counts, X_val_with_counts, y_val_with_counts, models_df)\n",
    "models_df.head()"
   ]
  },
  {
   "cell_type": "code",
   "execution_count": 89,
   "metadata": {},
   "outputs": [
    {
     "data": {
      "text/html": [
       "<div>\n",
       "<style scoped>\n",
       "    .dataframe tbody tr th:only-of-type {\n",
       "        vertical-align: middle;\n",
       "    }\n",
       "\n",
       "    .dataframe tbody tr th {\n",
       "        vertical-align: top;\n",
       "    }\n",
       "\n",
       "    .dataframe thead th {\n",
       "        text-align: right;\n",
       "    }\n",
       "</style>\n",
       "<table border=\"1\" class=\"dataframe\">\n",
       "  <thead>\n",
       "    <tr style=\"text-align: right;\">\n",
       "      <th></th>\n",
       "      <th>Model Name</th>\n",
       "      <th>Notes</th>\n",
       "      <th>Accuracy (Training)</th>\n",
       "      <th>Log Loss (Training)</th>\n",
       "      <th>F1 Score (Training)</th>\n",
       "      <th>Precision (Training)</th>\n",
       "      <th>Recall (Training)</th>\n",
       "      <th>Accuracy (Validation)</th>\n",
       "      <th>Log Loss (Validation)</th>\n",
       "      <th>F1 Score (Validation)</th>\n",
       "      <th>Precision (Validation)</th>\n",
       "      <th>Recall (Validation)</th>\n",
       "    </tr>\n",
       "  </thead>\n",
       "  <tbody>\n",
       "    <tr>\n",
       "      <th>0</th>\n",
       "      <td>Logistic Regression</td>\n",
       "      <td>Processed Data</td>\n",
       "      <td>0.813284</td>\n",
       "      <td>0.438126</td>\n",
       "      <td>0.814161</td>\n",
       "      <td>0.823962</td>\n",
       "      <td>0.813284</td>\n",
       "      <td>0.805846</td>\n",
       "      <td>0.442088</td>\n",
       "      <td>0.807156</td>\n",
       "      <td>0.820949</td>\n",
       "      <td>0.805846</td>\n",
       "    </tr>\n",
       "    <tr>\n",
       "      <th>1</th>\n",
       "      <td>SVC Linear</td>\n",
       "      <td>Processed Data</td>\n",
       "      <td>0.819872</td>\n",
       "      <td>0.762855</td>\n",
       "      <td>0.819802</td>\n",
       "      <td>0.819745</td>\n",
       "      <td>0.819872</td>\n",
       "      <td>0.821003</td>\n",
       "      <td>0.777349</td>\n",
       "      <td>0.821326</td>\n",
       "      <td>0.821871</td>\n",
       "      <td>0.821003</td>\n",
       "    </tr>\n",
       "    <tr>\n",
       "      <th>2</th>\n",
       "      <td>SVC RBF</td>\n",
       "      <td>Processed Data</td>\n",
       "      <td>0.856872</td>\n",
       "      <td>0.352889</td>\n",
       "      <td>0.857179</td>\n",
       "      <td>0.858026</td>\n",
       "      <td>0.856872</td>\n",
       "      <td>0.842656</td>\n",
       "      <td>0.383179</td>\n",
       "      <td>0.843109</td>\n",
       "      <td>0.844208</td>\n",
       "      <td>0.842656</td>\n",
       "    </tr>\n",
       "    <tr>\n",
       "      <th>3</th>\n",
       "      <td>Random Forest</td>\n",
       "      <td>Processed Data</td>\n",
       "      <td>0.834582</td>\n",
       "      <td>0.409097</td>\n",
       "      <td>0.835039</td>\n",
       "      <td>0.836468</td>\n",
       "      <td>0.834582</td>\n",
       "      <td>0.833995</td>\n",
       "      <td>0.413718</td>\n",
       "      <td>0.834797</td>\n",
       "      <td>0.837954</td>\n",
       "      <td>0.833995</td>\n",
       "    </tr>\n",
       "    <tr>\n",
       "      <th>4</th>\n",
       "      <td>XGBoost</td>\n",
       "      <td>Processed Data</td>\n",
       "      <td>0.886111</td>\n",
       "      <td>0.263669</td>\n",
       "      <td>0.886253</td>\n",
       "      <td>0.886558</td>\n",
       "      <td>0.886111</td>\n",
       "      <td>0.855648</td>\n",
       "      <td>0.336662</td>\n",
       "      <td>0.855831</td>\n",
       "      <td>0.856124</td>\n",
       "      <td>0.855648</td>\n",
       "    </tr>\n",
       "  </tbody>\n",
       "</table>\n",
       "</div>"
      ],
      "text/plain": [
       "            Model Name           Notes  Accuracy (Training)  \\\n",
       "0  Logistic Regression  Processed Data             0.813284   \n",
       "1           SVC Linear  Processed Data             0.819872   \n",
       "2              SVC RBF  Processed Data             0.856872   \n",
       "3        Random Forest  Processed Data             0.834582   \n",
       "4              XGBoost  Processed Data             0.886111   \n",
       "\n",
       "   Log Loss (Training)  F1 Score (Training)  Precision (Training)  \\\n",
       "0             0.438126             0.814161              0.823962   \n",
       "1             0.762855             0.819802              0.819745   \n",
       "2             0.352889             0.857179              0.858026   \n",
       "3             0.409097             0.835039              0.836468   \n",
       "4             0.263669             0.886253              0.886558   \n",
       "\n",
       "   Recall (Training)  Accuracy (Validation)  Log Loss (Validation)  \\\n",
       "0           0.813284               0.805846               0.442088   \n",
       "1           0.819872               0.821003               0.777349   \n",
       "2           0.856872               0.842656               0.383179   \n",
       "3           0.834582               0.833995               0.413718   \n",
       "4           0.886111               0.855648               0.336662   \n",
       "\n",
       "   F1 Score (Validation)  Precision (Validation)  Recall (Validation)  \n",
       "0               0.807156                0.820949             0.805846  \n",
       "1               0.821326                0.821871             0.821003  \n",
       "2               0.843109                0.844208             0.842656  \n",
       "3               0.834797                0.837954             0.833995  \n",
       "4               0.855831                0.856124             0.855648  "
      ]
     },
     "execution_count": 89,
     "metadata": {},
     "output_type": "execute_result"
    }
   ],
   "source": [
    "models_df.head()"
   ]
  },
  {
   "cell_type": "markdown",
   "metadata": {},
   "source": [
    "### 5. Hyperparameter Tuning"
   ]
  },
  {
   "cell_type": "markdown",
   "metadata": {},
   "source": [
    "We are only going to tune the hyperparameters for one model, and that is going to be XGBoost. We will use RandomizedSearchCV to find the best hyperparameters for the model."
   ]
  },
  {
   "cell_type": "code",
   "execution_count": 96,
   "metadata": {},
   "outputs": [],
   "source": [
    "xgb = XGBClassifier()\n",
    "\n",
    "params = {\n",
    "    'n_estimators': np.arange(100, 250, 50),\n",
    "    'learning_rate': [0.01, 0.1],\n",
    "    'max_depth': np.arange(4, 8, 2),\n",
    "    'gamma': [0.1, 0.2]\n",
    "}"
   ]
  },
  {
   "cell_type": "code",
   "execution_count": 107,
   "metadata": {},
   "outputs": [],
   "source": [
    "from sklearn.model_selection import GridSearchCV\n",
    "\n",
    "grid_search_xgb = GridSearchCV(\n",
    "    estimator=xgb,\n",
    "    param_grid=params,\n",
    "    scoring='f1',  # or another scoring metric\n",
    "    n_jobs=-1,  # Use all available cores\n",
    "    cv=10,  # 10-fold cross-validation\n",
    "    verbose=1,\n",
    ")"
   ]
  },
  {
   "cell_type": "code",
   "execution_count": 108,
   "metadata": {},
   "outputs": [
    {
     "name": "stdout",
     "output_type": "stream",
     "text": [
      "Fitting 10 folds for each of 24 candidates, totalling 240 fits\n"
     ]
    },
    {
     "data": {
      "text/html": [
       "<style>#sk-container-id-4 {color: black;}#sk-container-id-4 pre{padding: 0;}#sk-container-id-4 div.sk-toggleable {background-color: white;}#sk-container-id-4 label.sk-toggleable__label {cursor: pointer;display: block;width: 100%;margin-bottom: 0;padding: 0.3em;box-sizing: border-box;text-align: center;}#sk-container-id-4 label.sk-toggleable__label-arrow:before {content: \"▸\";float: left;margin-right: 0.25em;color: #696969;}#sk-container-id-4 label.sk-toggleable__label-arrow:hover:before {color: black;}#sk-container-id-4 div.sk-estimator:hover label.sk-toggleable__label-arrow:before {color: black;}#sk-container-id-4 div.sk-toggleable__content {max-height: 0;max-width: 0;overflow: hidden;text-align: left;background-color: #f0f8ff;}#sk-container-id-4 div.sk-toggleable__content pre {margin: 0.2em;color: black;border-radius: 0.25em;background-color: #f0f8ff;}#sk-container-id-4 input.sk-toggleable__control:checked~div.sk-toggleable__content {max-height: 200px;max-width: 100%;overflow: auto;}#sk-container-id-4 input.sk-toggleable__control:checked~label.sk-toggleable__label-arrow:before {content: \"▾\";}#sk-container-id-4 div.sk-estimator input.sk-toggleable__control:checked~label.sk-toggleable__label {background-color: #d4ebff;}#sk-container-id-4 div.sk-label input.sk-toggleable__control:checked~label.sk-toggleable__label {background-color: #d4ebff;}#sk-container-id-4 input.sk-hidden--visually {border: 0;clip: rect(1px 1px 1px 1px);clip: rect(1px, 1px, 1px, 1px);height: 1px;margin: -1px;overflow: hidden;padding: 0;position: absolute;width: 1px;}#sk-container-id-4 div.sk-estimator {font-family: monospace;background-color: #f0f8ff;border: 1px dotted black;border-radius: 0.25em;box-sizing: border-box;margin-bottom: 0.5em;}#sk-container-id-4 div.sk-estimator:hover {background-color: #d4ebff;}#sk-container-id-4 div.sk-parallel-item::after {content: \"\";width: 100%;border-bottom: 1px solid gray;flex-grow: 1;}#sk-container-id-4 div.sk-label:hover label.sk-toggleable__label {background-color: #d4ebff;}#sk-container-id-4 div.sk-serial::before {content: \"\";position: absolute;border-left: 1px solid gray;box-sizing: border-box;top: 0;bottom: 0;left: 50%;z-index: 0;}#sk-container-id-4 div.sk-serial {display: flex;flex-direction: column;align-items: center;background-color: white;padding-right: 0.2em;padding-left: 0.2em;position: relative;}#sk-container-id-4 div.sk-item {position: relative;z-index: 1;}#sk-container-id-4 div.sk-parallel {display: flex;align-items: stretch;justify-content: center;background-color: white;position: relative;}#sk-container-id-4 div.sk-item::before, #sk-container-id-4 div.sk-parallel-item::before {content: \"\";position: absolute;border-left: 1px solid gray;box-sizing: border-box;top: 0;bottom: 0;left: 50%;z-index: -1;}#sk-container-id-4 div.sk-parallel-item {display: flex;flex-direction: column;z-index: 1;position: relative;background-color: white;}#sk-container-id-4 div.sk-parallel-item:first-child::after {align-self: flex-end;width: 50%;}#sk-container-id-4 div.sk-parallel-item:last-child::after {align-self: flex-start;width: 50%;}#sk-container-id-4 div.sk-parallel-item:only-child::after {width: 0;}#sk-container-id-4 div.sk-dashed-wrapped {border: 1px dashed gray;margin: 0 0.4em 0.5em 0.4em;box-sizing: border-box;padding-bottom: 0.4em;background-color: white;}#sk-container-id-4 div.sk-label label {font-family: monospace;font-weight: bold;display: inline-block;line-height: 1.2em;}#sk-container-id-4 div.sk-label-container {text-align: center;}#sk-container-id-4 div.sk-container {/* jupyter's `normalize.less` sets `[hidden] { display: none; }` but bootstrap.min.css set `[hidden] { display: none !important; }` so we also need the `!important` here to be able to override the default hidden behavior on the sphinx rendered scikit-learn.org. See: https://github.com/scikit-learn/scikit-learn/issues/21755 */display: inline-block !important;position: relative;}#sk-container-id-4 div.sk-text-repr-fallback {display: none;}</style><div id=\"sk-container-id-4\" class=\"sk-top-container\"><div class=\"sk-text-repr-fallback\"><pre>GridSearchCV(cv=10,\n",
       "             estimator=XGBClassifier(base_score=None, booster=None,\n",
       "                                     callbacks=None, colsample_bylevel=None,\n",
       "                                     colsample_bynode=None,\n",
       "                                     colsample_bytree=None, device=None,\n",
       "                                     early_stopping_rounds=None,\n",
       "                                     enable_categorical=False, eval_metric=None,\n",
       "                                     feature_types=None, gamma=None,\n",
       "                                     grow_policy=None, importance_type=None,\n",
       "                                     interaction_constraints=None,\n",
       "                                     learning_rate=None...\n",
       "                                     max_delta_step=None, max_depth=None,\n",
       "                                     max_leaves=None, min_child_weight=None,\n",
       "                                     missing=nan, monotone_constraints=None,\n",
       "                                     multi_strategy=None, n_estimators=None,\n",
       "                                     n_jobs=None, num_parallel_tree=None,\n",
       "                                     random_state=None, ...),\n",
       "             n_jobs=-1,\n",
       "             param_grid={&#x27;gamma&#x27;: [0.1, 0.2], &#x27;learning_rate&#x27;: [0.01, 0.1],\n",
       "                         &#x27;max_depth&#x27;: array([4, 6]),\n",
       "                         &#x27;n_estimators&#x27;: array([100, 150, 200])},\n",
       "             scoring=&#x27;f1&#x27;, verbose=1)</pre><b>In a Jupyter environment, please rerun this cell to show the HTML representation or trust the notebook. <br />On GitHub, the HTML representation is unable to render, please try loading this page with nbviewer.org.</b></div><div class=\"sk-container\" hidden><div class=\"sk-item sk-dashed-wrapped\"><div class=\"sk-label-container\"><div class=\"sk-label sk-toggleable\"><input class=\"sk-toggleable__control sk-hidden--visually\" id=\"sk-estimator-id-6\" type=\"checkbox\" ><label for=\"sk-estimator-id-6\" class=\"sk-toggleable__label sk-toggleable__label-arrow\">GridSearchCV</label><div class=\"sk-toggleable__content\"><pre>GridSearchCV(cv=10,\n",
       "             estimator=XGBClassifier(base_score=None, booster=None,\n",
       "                                     callbacks=None, colsample_bylevel=None,\n",
       "                                     colsample_bynode=None,\n",
       "                                     colsample_bytree=None, device=None,\n",
       "                                     early_stopping_rounds=None,\n",
       "                                     enable_categorical=False, eval_metric=None,\n",
       "                                     feature_types=None, gamma=None,\n",
       "                                     grow_policy=None, importance_type=None,\n",
       "                                     interaction_constraints=None,\n",
       "                                     learning_rate=None...\n",
       "                                     max_delta_step=None, max_depth=None,\n",
       "                                     max_leaves=None, min_child_weight=None,\n",
       "                                     missing=nan, monotone_constraints=None,\n",
       "                                     multi_strategy=None, n_estimators=None,\n",
       "                                     n_jobs=None, num_parallel_tree=None,\n",
       "                                     random_state=None, ...),\n",
       "             n_jobs=-1,\n",
       "             param_grid={&#x27;gamma&#x27;: [0.1, 0.2], &#x27;learning_rate&#x27;: [0.01, 0.1],\n",
       "                         &#x27;max_depth&#x27;: array([4, 6]),\n",
       "                         &#x27;n_estimators&#x27;: array([100, 150, 200])},\n",
       "             scoring=&#x27;f1&#x27;, verbose=1)</pre></div></div></div><div class=\"sk-parallel\"><div class=\"sk-parallel-item\"><div class=\"sk-item\"><div class=\"sk-label-container\"><div class=\"sk-label sk-toggleable\"><input class=\"sk-toggleable__control sk-hidden--visually\" id=\"sk-estimator-id-7\" type=\"checkbox\" ><label for=\"sk-estimator-id-7\" class=\"sk-toggleable__label sk-toggleable__label-arrow\">estimator: XGBClassifier</label><div class=\"sk-toggleable__content\"><pre>XGBClassifier(base_score=None, booster=None, callbacks=None,\n",
       "              colsample_bylevel=None, colsample_bynode=None,\n",
       "              colsample_bytree=None, device=None, early_stopping_rounds=None,\n",
       "              enable_categorical=False, eval_metric=None, feature_types=None,\n",
       "              gamma=None, grow_policy=None, importance_type=None,\n",
       "              interaction_constraints=None, learning_rate=None, max_bin=None,\n",
       "              max_cat_threshold=None, max_cat_to_onehot=None,\n",
       "              max_delta_step=None, max_depth=None, max_leaves=None,\n",
       "              min_child_weight=None, missing=nan, monotone_constraints=None,\n",
       "              multi_strategy=None, n_estimators=None, n_jobs=None,\n",
       "              num_parallel_tree=None, random_state=None, ...)</pre></div></div></div><div class=\"sk-serial\"><div class=\"sk-item\"><div class=\"sk-estimator sk-toggleable\"><input class=\"sk-toggleable__control sk-hidden--visually\" id=\"sk-estimator-id-8\" type=\"checkbox\" ><label for=\"sk-estimator-id-8\" class=\"sk-toggleable__label sk-toggleable__label-arrow\">XGBClassifier</label><div class=\"sk-toggleable__content\"><pre>XGBClassifier(base_score=None, booster=None, callbacks=None,\n",
       "              colsample_bylevel=None, colsample_bynode=None,\n",
       "              colsample_bytree=None, device=None, early_stopping_rounds=None,\n",
       "              enable_categorical=False, eval_metric=None, feature_types=None,\n",
       "              gamma=None, grow_policy=None, importance_type=None,\n",
       "              interaction_constraints=None, learning_rate=None, max_bin=None,\n",
       "              max_cat_threshold=None, max_cat_to_onehot=None,\n",
       "              max_delta_step=None, max_depth=None, max_leaves=None,\n",
       "              min_child_weight=None, missing=nan, monotone_constraints=None,\n",
       "              multi_strategy=None, n_estimators=None, n_jobs=None,\n",
       "              num_parallel_tree=None, random_state=None, ...)</pre></div></div></div></div></div></div></div></div></div></div>"
      ],
      "text/plain": [
       "GridSearchCV(cv=10,\n",
       "             estimator=XGBClassifier(base_score=None, booster=None,\n",
       "                                     callbacks=None, colsample_bylevel=None,\n",
       "                                     colsample_bynode=None,\n",
       "                                     colsample_bytree=None, device=None,\n",
       "                                     early_stopping_rounds=None,\n",
       "                                     enable_categorical=False, eval_metric=None,\n",
       "                                     feature_types=None, gamma=None,\n",
       "                                     grow_policy=None, importance_type=None,\n",
       "                                     interaction_constraints=None,\n",
       "                                     learning_rate=None...\n",
       "                                     max_delta_step=None, max_depth=None,\n",
       "                                     max_leaves=None, min_child_weight=None,\n",
       "                                     missing=nan, monotone_constraints=None,\n",
       "                                     multi_strategy=None, n_estimators=None,\n",
       "                                     n_jobs=None, num_parallel_tree=None,\n",
       "                                     random_state=None, ...),\n",
       "             n_jobs=-1,\n",
       "             param_grid={'gamma': [0.1, 0.2], 'learning_rate': [0.01, 0.1],\n",
       "                         'max_depth': array([4, 6]),\n",
       "                         'n_estimators': array([100, 150, 200])},\n",
       "             scoring='f1', verbose=1)"
      ]
     },
     "execution_count": 108,
     "metadata": {},
     "output_type": "execute_result"
    }
   ],
   "source": [
    "grid_search_xgb.fit(X, y)"
   ]
  },
  {
   "cell_type": "code",
   "execution_count": 114,
   "metadata": {},
   "outputs": [
    {
     "name": "stdout",
     "output_type": "stream",
     "text": [
      "Best Parameters: {'gamma': 0.2, 'learning_rate': 0.1, 'max_depth': 4, 'n_estimators': 100}\n",
      "Best Score: 0.6318435911072795\n"
     ]
    }
   ],
   "source": [
    "print(\"Best Parameters:\", grid_search_xgb.best_params_)\n",
    "print(\"Best Score:\", grid_search_xgb.best_score_)"
   ]
  },
  {
   "cell_type": "code",
   "execution_count": null,
   "metadata": {},
   "outputs": [],
   "source": []
  },
  {
   "cell_type": "markdown",
   "metadata": {},
   "source": [
    "### 6. Visualization\n",
    "\n",
    "Confusion Matrices, ROC Curves, and Precision-Recall Curves\n",
    "\n",
    "Functions:\n",
    "- confusion_matrix\n",
    "- roc_curve\n",
    "- precision_recall_curve\n",
    "\n",
    "Models:\n",
    "- Logistic Regression\n",
    "- Random Forest\n",
    "- SVM Linear\n",
    "- SVM RBF\n",
    "- XGB"
   ]
  },
  {
   "cell_type": "code",
   "execution_count": 100,
   "metadata": {},
   "outputs": [],
   "source": [
    "def plot_confusion_matrices(titles, y_true, y_pred):\n",
    "    \"\"\"\n",
    "    Plot a confusion matrix using true and predicted labels.\n",
    "    \n",
    "    Parameters:\n",
    "    - y_true: Actual labels\n",
    "    - y_pred: Predicted labels\n",
    "    - class_names: Optional list of class names for labeling the matrix\n",
    "    \"\"\"\n",
    "    class_names = ['Recommended', 'Not Recommended']\n",
    "    num_plots = len(titles)\n",
    "\n",
    "    fig, axes = plt.subplots(nrows=1, ncols=num_plots, figsize=(15, 5))\n",
    "\n",
    "    for i, (title, y_pred_single) in enumerate(zip(titles, y_pred)):\n",
    "        cm = confusion_matrix(y_true, y_pred_single)\n",
    "\n",
    "        sns.heatmap(cm, annot=True, fmt='g', cmap='Blues', xticklabels=class_names, yticklabels=class_names, ax=axes[i])\n",
    "        axes[i].set_xlabel('Predicted Label')\n",
    "        axes[i].set_ylabel('True Label')\n",
    "        axes[i].set_title(title)\n",
    "\n",
    "    plt.tight_layout()\n",
    "    plt.show()"
   ]
  },
  {
   "cell_type": "code",
   "execution_count": 117,
   "metadata": {},
   "outputs": [],
   "source": [
    "from sklearn.metrics import roc_curve, auc\n",
    "\n",
    "def plot_binary_roc_curves(models, X_test, y_test):\n",
    "    \"\"\"\n",
    "    Plot ROC curve for binary classification for different models.\n",
    "\n",
    "    Parameters:\n",
    "    - models: A dictionary of models with model names as keys.\n",
    "    - X_test: Test features.\n",
    "    - y_test: True binary labels.\n",
    "    \"\"\"\n",
    "    plt.figure(figsize=(10, 8))\n",
    "    for i, (model_name, model) in enumerate(models.items(), 1):\n",
    "        # Compute predicted probabilities and ROC curve data\n",
    "        y_prob = model.predict_proba(X_test)[:, 1]\n",
    "        fpr, tpr, _ = roc_curve(y_test, y_prob)\n",
    "        roc_auc = auc(fpr, tpr)\n",
    "\n",
    "        # Create a subplot for each model\n",
    "        plt.subplot(len(models), 1, i)\n",
    "        plt.plot(fpr, tpr, label=f'{model_name} - AUC: {roc_auc:.2f}')\n",
    "        plt.plot([0, 1], [0, 1], 'k--')\n",
    "        plt.xlim([0.0, 1.0])\n",
    "        plt.ylim([0.0, 1.05])\n",
    "        plt.xlabel('False Positive Rate')\n",
    "        plt.ylabel('True Positive Rate')\n",
    "        plt.title(f'{model_name} ROC Curve')\n",
    "        plt.legend(loc='lower right')\n",
    "\n",
    "    plt.tight_layout()\n",
    "    plt.show()"
   ]
  },
  {
   "cell_type": "code",
   "execution_count": 101,
   "metadata": {},
   "outputs": [
    {
     "data": {
      "image/png": "[encoded data removed]",
      "text/plain": [
       "<Figure size 1500x500 with 6 Axes>"
      ]
     },
     "metadata": {},
     "output_type": "display_data"
    }
   ],
   "source": [
    "y_pred_logistic = logistic_model.predict(X_val)\n",
    "y_pred_random_forest = random_forest_classifier.predict(X_val)\n",
    "y_pred_xgb = xgb_classifier.predict(X_val)\n",
    "\n",
    "plot_confusion_matrices([\"Logistic Regression\", \"Random Forest\", \"XGBoost\"], y_val, [y_pred_logistic, y_pred_random_forest, y_pred_xgb])"
   ]
  },
  {
   "cell_type": "code",
   "execution_count": 115,
   "metadata": {},
   "outputs": [],
   "source": [
    "from sklearn.metrics import precision_recall_curve, average_precision_score\n",
    "\n",
    "def plot_binary_precision_recall_curve(titles, y_true, y_scores):\n",
    "    \"\"\"\n",
    "    Plot PR curve for multiclass classification using a one-vs-all approach.\n",
    "    \n",
    "    Parameters:\n",
    "    - titles: List of titles for each PR curve\n",
    "    - y_true: True labels\n",
    "    - y_scores: List of predicted probability scores or one-vs-all scores for each model\n",
    "    \"\"\"\n",
    "\n",
    "    class_names = ['Recommended', 'Not Recommended']\n",
    "    nrows = 1\n",
    "    ncols = len(titles)\n",
    "    fig, axs = plt.subplots(nrows=nrows, ncols=ncols, figsize=(15, 5))\n",
    "\n",
    "    for i, (title, ax) in enumerate(zip(titles, axs)):\n",
    "        # Ensure y_scores is a NumPy array\n",
    "        y_scores_array = np.array(y_scores[i])\n",
    "\n",
    "        precision, recall, _ = precision_recall_curve(y_true, y_scores_array)\n",
    "        average_precision = average_precision_score(y_true, y_scores_array)\n",
    "\n",
    "        ax.plot(recall, precision, lw=2, label=f'PR curve (area = {average_precision:0.2f})')\n",
    "        ax.set_xlabel('Recall')\n",
    "        ax.set_ylabel('Precision')\n",
    "        ax.set_title(f'{title} Precision-Recall Curve')\n",
    "        ax.legend(loc=\"lower left\")\n",
    "        ax.grid(True)\n",
    "\n",
    "    plt.tight_layout()\n",
    "    plt.show()"
   ]
  },
  {
   "cell_type": "code",
   "execution_count": null,
   "metadata": {},
   "outputs": [],
   "source": [
    "plot_binary_roc_curves"
   ]
  },
  {
   "cell_type": "code",
   "execution_count": 116,
   "metadata": {},
   "outputs": [
    {
     "data": {
      "image/png": "[encoded data removed]",
      "text/plain": [
       "<Figure size 1500x500 with 3 Axes>"
      ]
     },
     "metadata": {},
     "output_type": "display_data"
    }
   ],
   "source": [
    "plot_binary_precision_recall_curve([\"Logistic Regression\", \"Random Forest\", \"XGBoost\"], y_val, [y_pred_logistic, y_pred_random_forest, y_pred_xgb])\n"
   ]
  },
  {
   "cell_type": "markdown",
   "metadata": {},
   "source": [
    "### 7. Insights and Analysis"
   ]
  },
  {
   "cell_type": "markdown",
   "metadata": {},
   "source": [
    "### 8. Validation"
   ]
  },
  {
   "cell_type": "markdown",
   "metadata": {},
   "source": []
  }
 ],
 "metadata": {
  "kernelspec": {
   "display_name": "venv",
   "language": "python",
   "name": "python3"
  },
  "language_info": {
   "codemirror_mode": {
    "name": "ipython",
    "version": 3
   },
   "file_extension": ".py",
   "mimetype": "text/x-python",
   "name": "python",
   "nbconvert_exporter": "python",
   "pygments_lexer": "ipython3",
   "version": "3.11.3"
  }
 },
 "nbformat": 4,
 "nbformat_minor": 2
}
